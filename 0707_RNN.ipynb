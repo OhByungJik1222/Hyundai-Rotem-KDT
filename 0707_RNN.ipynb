{
 "cells": [
  {
   "cell_type": "code",
   "execution_count": null,
   "id": "6d39328c",
   "metadata": {},
   "outputs": [
    {
     "name": "stdout",
     "output_type": "stream",
     "text": [
      "(25000,)\n",
      "(25000,)\n",
      "(25000,)\n",
      "(25000,)\n",
      "[list([1, 14, 22, 16, 43, 2, 2, 2, 2, 65, 458, 2, 66, 2, 4, 173, 36, 256, 5, 25, 100, 43, 2, 112, 50, 2, 2, 9, 35, 480, 284, 5, 150, 4, 172, 112, 167, 2, 336, 385, 39, 4, 172, 2, 2, 17, 2, 38, 13, 447, 4, 192, 50, 16, 6, 147, 2, 19, 14, 22, 4, 2, 2, 469, 4, 22, 71, 87, 12, 16, 43, 2, 38, 76, 15, 13, 2, 4, 22, 17, 2, 17, 12, 16, 2, 18, 2, 5, 62, 386, 12, 8, 316, 8, 106, 5, 4, 2, 2, 16, 480, 66, 2, 33, 4, 130, 12, 16, 38, 2, 5, 25, 124, 51, 36, 135, 48, 25, 2, 33, 6, 22, 12, 215, 28, 77, 52, 5, 14, 407, 16, 82, 2, 8, 4, 107, 117, 2, 15, 256, 4, 2, 7, 2, 5, 2, 36, 71, 43, 2, 476, 26, 400, 317, 46, 7, 4, 2, 2, 13, 104, 88, 4, 381, 15, 297, 98, 32, 2, 56, 26, 141, 6, 194, 2, 18, 4, 226, 22, 21, 134, 476, 26, 480, 5, 144, 30, 2, 18, 51, 36, 28, 224, 92, 25, 104, 4, 226, 65, 16, 38, 2, 88, 12, 16, 283, 5, 16, 2, 113, 103, 32, 15, 16, 2, 19, 178, 32])\n",
      " list([1, 194, 2, 194, 2, 78, 228, 5, 6, 2, 2, 2, 134, 26, 4, 2, 8, 118, 2, 14, 394, 20, 13, 119, 2, 189, 102, 5, 207, 110, 2, 21, 14, 69, 188, 8, 30, 23, 7, 4, 249, 126, 93, 4, 114, 9, 2, 2, 5, 2, 4, 116, 9, 35, 2, 4, 229, 9, 340, 2, 4, 118, 9, 4, 130, 2, 19, 4, 2, 5, 89, 29, 2, 46, 37, 4, 455, 9, 45, 43, 38, 2, 2, 398, 4, 2, 26, 2, 5, 163, 11, 2, 2, 4, 2, 9, 194, 2, 7, 2, 2, 349, 2, 148, 2, 2, 2, 15, 123, 125, 68, 2, 2, 15, 349, 165, 2, 98, 5, 4, 228, 9, 43, 2, 2, 15, 299, 120, 5, 120, 174, 11, 220, 175, 136, 50, 9, 2, 228, 2, 5, 2, 2, 245, 2, 5, 4, 2, 131, 152, 491, 18, 2, 32, 2, 2, 14, 9, 6, 371, 78, 22, 2, 64, 2, 9, 8, 168, 145, 23, 4, 2, 15, 16, 4, 2, 5, 28, 6, 52, 154, 462, 33, 89, 78, 285, 16, 145, 95])\n",
      " list([1, 14, 47, 8, 30, 31, 7, 4, 249, 108, 7, 4, 2, 54, 61, 369, 13, 71, 149, 14, 22, 112, 4, 2, 311, 12, 16, 2, 33, 75, 43, 2, 296, 4, 86, 320, 35, 2, 19, 263, 2, 2, 4, 2, 33, 89, 78, 12, 66, 16, 4, 360, 7, 4, 58, 316, 334, 11, 4, 2, 43, 2, 2, 8, 257, 85, 2, 42, 2, 2, 83, 68, 2, 15, 36, 165, 2, 278, 36, 69, 2, 2, 8, 106, 14, 2, 2, 18, 6, 22, 12, 215, 28, 2, 40, 6, 87, 326, 23, 2, 21, 23, 22, 12, 272, 40, 57, 31, 11, 4, 22, 47, 6, 2, 51, 9, 170, 23, 2, 116, 2, 2, 13, 191, 79, 2, 89, 2, 14, 9, 8, 106, 2, 2, 35, 2, 6, 227, 7, 129, 113])\n",
      " list([1, 4, 2, 2, 33, 2, 4, 2, 432, 111, 153, 103, 4, 2, 13, 70, 131, 67, 11, 61, 2, 2, 35, 2, 2, 61, 2, 452, 2, 4, 2, 7, 2, 59, 166, 4, 105, 216, 2, 41, 2, 9, 15, 7, 35, 2, 2, 31, 8, 4, 2, 23, 4, 2, 2, 6, 2, 42, 38, 39, 121, 59, 456, 10, 10, 7, 265, 12, 2, 111, 153, 159, 59, 16, 2, 21, 25, 2, 482, 39, 4, 96, 59, 2, 12, 4, 172, 65, 9, 2, 11, 2, 4, 2, 5, 2, 7, 2, 17, 13, 2, 12, 19, 6, 464, 31, 314, 11, 2, 6, 2, 2, 11, 8, 202, 27, 310, 4, 2, 2, 8, 2, 58, 10, 10, 2, 2, 180, 40, 14, 413, 173, 7, 263, 112, 37, 152, 377, 4, 2, 263, 2, 2, 178, 54, 75, 71, 476, 36, 413, 263, 2, 182, 5, 17, 75, 2, 2, 36, 279, 131, 2, 17, 2, 42, 17, 35, 2, 2, 192, 5, 2, 2, 19, 2, 217, 2, 2, 2, 2, 2, 5, 2, 10, 10, 61, 403, 9, 2, 40, 61, 2, 5, 27, 2, 159, 90, 263, 2, 2, 309, 8, 178, 5, 82, 2, 4, 65, 15, 2, 145, 143, 2, 12, 2, 2, 2, 2, 2, 15, 2, 4, 2, 2, 7, 2, 94, 2, 2, 2, 11, 2, 4, 2, 7, 2, 246, 2, 9, 2, 11, 2, 14, 9, 51, 408, 12, 94, 318, 2, 12, 47, 6, 2, 2, 5, 2, 2, 19, 49, 7, 4, 2, 2, 2, 25, 80, 126, 2, 10, 10, 2, 2, 2, 27, 2, 11, 2, 2, 159, 27, 341, 29, 2, 19, 2, 173, 7, 90, 2, 8, 30, 11, 4, 2, 86, 2, 8, 2, 46, 11, 2, 21, 29, 9, 2, 23, 4, 2, 2, 2, 6, 2, 2, 2, 10, 10, 246, 50, 9, 6, 2, 2, 2, 90, 29, 2, 8, 124, 4, 2, 4, 2, 496, 27, 2, 2, 2, 121, 127, 2, 130, 5, 29, 494, 8, 124, 4, 2, 496, 4, 341, 7, 27, 2, 10, 10, 29, 9, 2, 8, 97, 6, 236, 2, 2, 8, 4, 2, 7, 31, 7, 2, 91, 2, 2, 70, 4, 2, 30, 2, 42, 9, 12, 32, 11, 2, 10, 10, 11, 14, 65, 44, 2, 75, 2, 2, 2, 2, 2, 4, 2, 7, 154, 5, 4, 2, 53, 2, 2, 7, 2, 2, 11, 399, 38, 75, 257, 2, 19, 2, 17, 29, 456, 4, 65, 7, 27, 205, 113, 10, 10, 2, 4, 2, 2, 9, 242, 4, 91, 2, 2, 5, 2, 307, 22, 7, 2, 126, 93, 40, 2, 13, 188, 2, 2, 19, 4, 2, 7, 2, 2, 23, 53, 2, 21, 82, 40, 2, 13, 2, 14, 280, 13, 219, 4, 2, 431, 2, 2, 4, 2, 2, 2, 7, 2, 5, 94, 40, 25, 238, 60, 2, 4, 2, 2, 2, 7, 4, 2, 132, 8, 67, 6, 22, 15, 9, 283, 8, 2, 14, 31, 9, 242, 2, 48, 25, 279, 2, 23, 12, 2, 195, 25, 238, 60, 2, 2, 4, 2, 7, 2, 5, 4, 2, 154, 2, 7, 2, 50, 26, 49, 2, 15, 2, 30, 2, 21, 64, 2])\n",
      " list([1, 249, 2, 7, 61, 113, 10, 10, 13, 2, 14, 20, 56, 33, 2, 18, 457, 88, 13, 2, 2, 45, 2, 13, 70, 79, 49, 2, 2, 13, 16, 355, 340, 355, 2, 96, 143, 4, 22, 32, 289, 7, 61, 369, 71, 2, 5, 13, 16, 131, 2, 249, 114, 249, 229, 249, 20, 13, 28, 126, 110, 13, 473, 8, 2, 61, 419, 56, 429, 6, 2, 18, 35, 2, 95, 474, 2, 5, 25, 124, 138, 88, 12, 421, 2, 52, 2, 2, 61, 419, 11, 13, 2, 15, 2, 20, 11, 4, 2, 5, 296, 12, 2, 5, 15, 421, 128, 74, 233, 334, 207, 126, 224, 12, 2, 298, 2, 2, 7, 2, 5, 2, 2, 43, 8, 79, 120, 15, 2, 13, 2, 25, 2, 18, 165, 170, 143, 19, 14, 5, 2, 6, 226, 251, 7, 61, 113])]\n",
      "[1 0 0 1 0]\n"
     ]
    }
   ],
   "source": [
    "# IMDB Dataset을 이용해서 감성분류를 해보아요!\n",
    "# 영어로 되어있는 리뷰를 토큰으로 분리\n",
    "# vocabulary를 생성한 후 이를 이용해서 리뷰를 숫자의 시퀀스로 변경\n",
    "# label로는 각 리뷰가 긍정의 리뷰면 1, 부정의 리뷰면 0으로 제공\n",
    "# num_words는 내가 사용할 vocabulary안의 단어 수\n",
    "from tensorflow.keras.datasets import imdb\n",
    "\n",
    "(x_data_train, y_data_train), (x_data_test, y_data_test) =\\\n",
    "imdb.load_data(num_words=500)\n",
    "\n",
    "print(x_data_train.shape) # (25000,)\n",
    "print(x_data_test.shape) # (25000,)\n",
    "print(y_data_train.shape) # (25000,)\n",
    "print(y_data_test.shape) # (25000,)\n",
    "\n",
    "print(x_data_train[:5])\n",
    "print(y_data_train[:5])"
   ]
  },
  {
   "cell_type": "code",
   "execution_count": null,
   "id": "f61bec57",
   "metadata": {},
   "outputs": [
    {
     "name": "stdout",
     "output_type": "stream",
     "text": [
      "218\n",
      "189\n",
      "141\n"
     ]
    }
   ],
   "source": [
    "# 각각의 review의 길이를 알아보아요!\n",
    "print(len(x_data_train[0])) # 218\n",
    "print(len(x_data_train[1])) # 189\n",
    "print(len(x_data_train[2])) # 141"
   ]
  },
  {
   "cell_type": "code",
   "execution_count": 12,
   "id": "3a15a957",
   "metadata": {},
   "outputs": [
    {
     "name": "stdout",
     "output_type": "stream",
     "text": [
      "[218 189 141 550 147  43 123 562 233 130]\n",
      "238.71364\n",
      "178.0\n"
     ]
    },
    {
     "data": {
      "image/png": "[encoded data removed]",
      "text/plain": [
       "<Figure size 640x480 with 1 Axes>"
      ]
     },
     "metadata": {},
     "output_type": "display_data"
    }
   ],
   "source": [
    "# 이런 review 데이터를 Model안레 집어넣어서 연산을 수행하려면\n",
    "# 데이터릐 길이가 같아야해요. (shape이 같아야해요!)\n",
    "# 각 review마다 길이가 다른데 어떻게 리뷰의 길이를 똑같이 만드나요?\n",
    "# 가장 길이가 긴 리부의 길이로 전체 리뷰들의 길이를 늘려요! => 공간의 낭비\n",
    "# 적절한 길이로 전체 리뷰들의 길이를 제한 => CNN에서 이미지 크기 고정시키듯이\n",
    "# => 어떤 리뷰들은 조금 짤릴꺼구요, 어떤 리뷰들은 길이가 늘어날거에요!\n",
    "import numpy as np\n",
    "import matplotlib.pyplot as plt\n",
    "\n",
    "# 각 review에 대한 길이를 구해서 ndarray에 저장\n",
    "lengths = np.array([len(x) for x in x_data_train])\n",
    "print(lengths[:10]) # [218 189 141 550 147  43 123 562 233 130]\n",
    "\n",
    "print(np.mean(lengths)) # 238.71364\n",
    "print(np.median(lengths)) # 178.0\n",
    "\n",
    "plt.hist(lengths)\n",
    "plt.show()"
   ]
  },
  {
   "cell_type": "code",
   "execution_count": null,
   "id": "8a49402d",
   "metadata": {},
   "outputs": [
    {
     "name": "stdout",
     "output_type": "stream",
     "text": [
      "(25000, 100)\n"
     ]
    }
   ],
   "source": [
    "# 평균, 중앙값 histogram을 구해봤더니..\n",
    "# 대략 100 ~ 150개의 token으로 이루어진 review들이 많다는 걸 확인할 수 있었어요!\n",
    "# 그래서 token 100개로 모든 review의 길이를 조절!\n",
    "from tensorflow.keras.preprocessing.sequence import pad_sequences\n",
    "\n",
    "# 모든 review에 대한 길이가 token 100개로 맞춰지게되요!\n",
    "# 기본적으로 padding 처리는 짧은 길이는 앞쪽에 0(padding)을 추가\n",
    "# 길이가 긴 review(길이가 긴 데이터)는 앞쪽 데이터를 잘라요!\n",
    "x_data_train_seq = pad_sequences(x_data_train,\n",
    "                                 maxlen=100)\n",
    "print(x_data_train_seq.shape) # (25000, 100)"
   ]
  },
  {
   "cell_type": "code",
   "execution_count": null,
   "id": "2d6c554f",
   "metadata": {},
   "outputs": [
    {
     "name": "stdout",
     "output_type": "stream",
     "text": [
      "[  2  33   6  22  12 215  28  77  52   5  14 407  16  82   2   8   4 107\n",
      " 117   2  15 256   4   2   7   2   5   2  36  71  43   2 476  26 400 317\n",
      "  46   7   4   2   2  13 104  88   4 381  15 297  98  32   2  56  26 141\n",
      "   6 194   2  18   4 226  22  21 134 476  26 480   5 144  30   2  18  51\n",
      "  36  28 224  92  25 104   4 226  65  16  38   2  88  12  16 283   5  16\n",
      "   2 113 103  32  15  16   2  19 178  32]\n"
     ]
    }
   ],
   "source": [
    "print(x_data_train_seq[0])\n",
    "# 어떻게하면 각 token에 대한 값들이 볼륨을 가지지 않고 특정 category를 표현하도록\n",
    "# 할 수 있을까요? -> one-hot encoding\n",
    "# one-hot으로 바꾸면 카테고리 수는 500개"
   ]
  },
  {
   "cell_type": "code",
   "execution_count": 17,
   "id": "09f4e7f7",
   "metadata": {},
   "outputs": [],
   "source": [
    "# 데이터가 준비되었으니 이제 모델을 구성해 보아요!\n",
    "from tensorflow.keras.models import Sequential\n",
    "from tensorflow.keras.layers import SimpleRNN, Dense\n",
    "\n",
    "model = Sequential()\n",
    "model.add(SimpleRNN(units=8,\n",
    "                    activation='tanh',\n",
    "                    input_shape=(100,500))) # one-hot 처리때문에 \n",
    "model.add(Dense(units=1,\n",
    "                activation='sigmoid'))"
   ]
  },
  {
   "cell_type": "code",
   "execution_count": null,
   "id": "eb489e16",
   "metadata": {},
   "outputs": [
    {
     "name": "stdout",
     "output_type": "stream",
     "text": [
      "(25000, 100, 500)\n"
     ]
    }
   ],
   "source": [
    "# 입력값으로 token에 대한 one-hot encoding값을 사용해야 되기 때문에\n",
    "# one-hot encoding으로 각 review가 가지는 token들을 반환\n",
    "from tensorflow.keras.utils import to_categorical\n",
    "\n",
    "x_data_train_onehot = to_categorical(x_data_train_seq,\n",
    "                                     num_classes=500)\n",
    "print(x_data_train_onehot.shape) # (25000, 100, 500)\n",
    "# (sample의 개수, token(timestep)의 개수, feature(token을 표현하는 데이터값))\n",
    "# 공간의 낭비가 생겨요 -> one-hot encoding을 사용해서 그래요."
   ]
  },
  {
   "cell_type": "code",
   "execution_count": 2,
   "id": "053e3a12",
   "metadata": {},
   "outputs": [],
   "source": [
    "%reset -f\n",
    "\n",
    "import tensorflow as tf\n",
    "import numpy as np\n",
    "import datetime\n",
    "from sklearn.model_selection import train_test_split\n",
    "from tensorflow.keras.datasets import imdb\n",
    "\n",
    "from tensorflow.keras.preprocessing.sequence import pad_sequences\n",
    "from tensorflow.keras.utils import to_categorical\n",
    "\n",
    "from tensorflow.keras.models import Sequential\n",
    "from tensorflow.keras.layers import SimpleRNN, Dense, Lambda\n",
    "from tensorflow.keras.optimizers import Adam\n",
    "from tensorflow.keras.callbacks import EarlyStopping, ModelCheckpoint, TensorBoard"
   ]
  },
  {
   "cell_type": "code",
   "execution_count": null,
   "id": "d48e1840",
   "metadata": {},
   "outputs": [],
   "source": [
    "# Data Loading\n",
    "(x_data_train, y_data_train), (x_data_test, y_data_test) =\\\n",
    "imdb.load_data(num_words=500)\n",
    "\n",
    "x_data_train, x_data_valid, y_data_train, y_data_valid =\\\n",
    "train_test_split(x_data_train,\n",
    "                 y_data_train,\n",
    "                 test_size=0.2,\n",
    "                 stratify=y_data_train,\n",
    "                 random_state=42)\n",
    "\n",
    "# Padding 처리 -> 길이를 100으로 변경\n",
    "x_data_train_seq = pad_sequences(x_data_train,\n",
    "                                 maxlen=100)\n",
    "x_data_valid_seq = pad_sequences(x_data_valid,\n",
    "                                 maxlen=100)\n",
    "\n",
    "# one-hot 처리 -> 클래스 개수는 500개 (여기서 메모리 부족 발생)\n",
    "x_data_train_onehot = to_categorical(x_data_train_seq,\n",
    "                                     num_classes=500)\n",
    "x_data_valid_onehot = to_categorical(x_data_valid_seq,\n",
    "                                     num_classes=500)\n",
    "\n",
    "# Model\n",
    "model = Sequential()\n",
    "model.add(SimpleRNN(units=8,\n",
    "                    activation='tanh',\n",
    "                    input_shape=(100,500)))\n",
    "model.add(Dense(units=1,\n",
    "                activation='sigmoid'))\n",
    "\n",
    "model.compile(optimizer=Adam(learning_rate=1e-3),\n",
    "              loss='binary_crossentropy',\n",
    "              metrics=['accuracy'])\n",
    "\n",
    "es_callback = EarlyStopping(monitor='val_loss',\n",
    "                            patience=5,\n",
    "                            restore_best_weights=True,\n",
    "                            verbose=1)\n",
    "cp_callback = ModelCheckpoint(filepath='./IMDB_SimpleRNN_model.weights.h5',\n",
    "                              monitor='val_loss',\n",
    "                              save_best_only=True,\n",
    "                              save_weights_only=True,\n",
    "                              verbose=1)\n",
    "log_dir = './logs/' + datetime.datetime.now().strftime('%Y%m%d-%H%M%S')\n",
    "tb_callback = TensorBoard(log_dir=log_dir,\n",
    "                          histogram_freq=1)\n"
   ]
  },
  {
   "cell_type": "code",
   "execution_count": null,
   "id": "cd9553b8",
   "metadata": {},
   "outputs": [
    {
     "ename": "",
     "evalue": "",
     "output_type": "error",
     "traceback": [
      "\u001b[1;31mThe Kernel crashed while executing code in the current cell or a previous cell. \n",
      "\u001b[1;31mPlease review the code in the cell(s) to identify a possible cause of the failure. \n",
      "\u001b[1;31mClick <a href='https://aka.ms/vscodeJupyterKernelCrash'>here</a> for more info. \n",
      "\u001b[1;31mView Jupyter <a href='command:jupyter.viewOutput'>log</a> for further details."
     ]
    }
   ],
   "source": [
    "# Model 학습\n",
    "# tensorflow 2.16, CUDA 12.3에서는 오류! 메모리 오류!\n",
    "# tensorflow 2.13, CUDA 11.8에서는 동작!\n",
    "# 버전이 올라가면서 메모리 처리 방식이 바뀌었기 때문\n",
    "# Lambda layer를 사용하여 해결가능\n",
    "model.fit(x_data_train_onehot,\n",
    "          y_data_train,\n",
    "          epochs=100,\n",
    "          batch_size=64,\n",
    "          validation_data=(x_data_valid_onehot, y_data_valid),\n",
    "          callbacks=[es_callback, cp_callback, tb_callback],\n",
    "          verbose=1)"
   ]
  },
  {
   "cell_type": "code",
   "execution_count": null,
   "id": "93467f53",
   "metadata": {},
   "outputs": [],
   "source": [
    "# Data Loading\n",
    "(x_data_train, y_data_train), (x_data_test, y_data_test) =\\\n",
    "imdb.load_data(num_words=500)\n",
    "\n",
    "x_data_train, x_data_valid, y_data_train, y_data_valid =\\\n",
    "train_test_split(x_data_train,\n",
    "                 y_data_train,\n",
    "                 test_size=0.2,\n",
    "                 stratify=y_data_train,\n",
    "                 random_state=42)\n",
    "\n",
    "# Padding 처리 -> 길이를 100으로 변경\n",
    "x_data_train_seq = pad_sequences(x_data_train,\n",
    "                                 maxlen=100)\n",
    "x_data_valid_seq = pad_sequences(x_data_valid,\n",
    "                                 maxlen=100)\n",
    "\n",
    "# one-hot 처리 -> 클래스 개수는 500개 (여기서 메모리 부족 발생)\n",
    "# 이 형태의 구현은 메모리 부족을 발생시킬 수 있어요!\n",
    "# x_data_train_onehot = to_categorical(x_data_train_seq,\n",
    "#                                      num_classes=500)\n",
    "# x_data_valid_onehot = to_categorical(x_data_valid_seq,\n",
    "#                                      num_classes=500)\n",
    "\n",
    "# Model\n",
    "model = Sequential()\n",
    "model.add(Lambda(lambda x: tf.one_hot(tf.cast(x, tf.int32), 500),\n",
    "                 input_shape=(100,)))\n",
    "model.add(SimpleRNN(units=8,\n",
    "                    activation='tanh'))\n",
    "model.add(Dense(units=1,\n",
    "                activation='sigmoid'))\n",
    "\n",
    "model.compile(optimizer=Adam(learning_rate=1e-3),\n",
    "              loss='binary_crossentropy',\n",
    "              metrics=['accuracy'])\n",
    "\n",
    "es_callback = EarlyStopping(monitor='val_loss',\n",
    "                            patience=5,\n",
    "                            restore_best_weights=True,\n",
    "                            verbose=1)\n",
    "cp_callback = ModelCheckpoint(filepath='./IMDB_SimpleRNN_model.weights.h5',\n",
    "                              monitor='val_loss',\n",
    "                              save_best_only=True,\n",
    "                              save_weights_only=True,\n",
    "                              verbose=1)\n",
    "log_dir = './logs/' + datetime.datetime.now().strftime('%Y%m%d-%H%M%S')\n",
    "tb_callback = TensorBoard(log_dir=log_dir,\n",
    "                          histogram_freq=1)\n"
   ]
  },
  {
   "cell_type": "code",
   "execution_count": null,
   "id": "704d2b82",
   "metadata": {},
   "outputs": [],
   "source": [
    "model.fit(x_data_train_seq,\n",
    "          y_data_train,\n",
    "          epochs=100,\n",
    "          batch_size=64,\n",
    "          validation_data=(x_data_valid_seq, y_data_valid),\n",
    "          callbacks=[es_callback, cp_callback, tb_callback],\n",
    "          verbose=1)\n",
    "# Epoch 13/100\n",
    "# 147/313 ━━━━━━━━━━━━━━━━━━━━ 9s 58ms/step - accuracy: 0.8444 - loss: 0.3649\n",
    "# Epoch 13: val_loss did not improve from 0.47271\n",
    "# 313/313 ━━━━━━━━━━━━━━━━━━━━ 6s 18ms/step - accuracy: 0.8370 - loss: 0.3757 - val_accuracy: 0.7744 - val_loss: 0.4881\n",
    "# Epoch 13: early stopping\n",
    "# Restoring model weights from the end of the best epoch: 8."
   ]
  },
  {
   "cell_type": "code",
   "execution_count": null,
   "id": "b235a663",
   "metadata": {},
   "outputs": [
    {
     "name": "stdout",
     "output_type": "stream",
     "text": [
      "\u001b[1m782/782\u001b[0m \u001b[32m━━━━━━━━━━━━━━━━━━━━\u001b[0m\u001b[37m\u001b[0m \u001b[1m5s\u001b[0m 6ms/step - accuracy: 0.7904 - loss: 0.4586 \n",
      "[0.4550960659980774, 0.7898399829864502]\n"
     ]
    }
   ],
   "source": [
    "x_data_test_seq = pad_sequences(x_data_test,\n",
    "                                maxlen=100)\n",
    "\n",
    "result = model.evaluate(x_data_test_seq, y_data_test)\n",
    "print(result) # [0.4550960659980774, 0.7898399829864502]"
   ]
  }
 ],
 "metadata": {
  "kernelspec": {
   "display_name": "llm_env",
   "language": "python",
   "name": "python3"
  },
  "language_info": {
   "codemirror_mode": {
    "name": "ipython",
    "version": 3
   },
   "file_extension": ".py",
   "mimetype": "text/x-python",
   "name": "python",
   "nbconvert_exporter": "python",
   "pygments_lexer": "ipython3",
   "version": "3.10.16"
  }
 },
 "nbformat": 4,
 "nbformat_minor": 5
}
