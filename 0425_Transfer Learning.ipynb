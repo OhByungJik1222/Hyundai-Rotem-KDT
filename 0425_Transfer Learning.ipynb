{
 "cells": [
  {
   "cell_type": "code",
   "execution_count": 1,
   "id": "352d9794-0898-484e-9d03-706edde9b9e3",
   "metadata": {},
   "outputs": [],
   "source": [
    "# 전이학습에 대해서 알아보아요!\n",
    "# 당연히 전이학습을 하려면 pretrained Network이 있어야해요!\n",
    "# 이미 누군가에 의해서 만들어진(학습된) CNN 모델이 있어야해요!\n",
    "# 이런 Pretrained Network는 그 종류가 상당히 많아요!\n",
    "# 그 중 대표적인 모델은 BGG16, VGG19(학습용), MS의 Resnet, Goolge의 Inception\n",
    "# mobilenet(모델의 정확도는 낮지만 속도가 빠르고 가벼워요), EfficientNet(성능이 좋아요)\n",
    "# 별의 별... model들이 있어요!\n",
    "\n",
    "# Pretrained Network(CNN) 모델에서 우리가 사용할 수 있는 부분은\n",
    "# 특징 추출부분이에요! 이 부분을 통해서 개와 고양이의 특징을 추출하고\n",
    "# 머신러닝ㅇ서 배운 학습기(classfier)를 이용해서 머신러닝을 구현하면 되요!\n",
    "\n",
    "# 결국 우리가 재사용하는 layer는 Conv2D, MaxPooling2D에요!\n",
    "# Conv2D가 여러개 있을거고 MaxPooling2D도 여러개 있겠죠.\n",
    "# 하위 Convolution Layer는 입력데이터의 국소적인 특징을 추출(질감, 선의 형태)\n",
    "# 상위 Convolution Layer는 입력데이터의 형태적인 특징을 추출(눈, 코 등)\n",
    "\n",
    "# 원래 다른 이미지(imagenet과 같은)로 만든 filter지만 우리의 개와 고양이의 특징을\n",
    "# 추출하는데도 잘 사용할 수 있어요! => 그래서 가져다 쓰는데 문제가 없어요!"
   ]
  },
  {
   "cell_type": "code",
   "execution_count": 3,
   "id": "168db8d8-31bd-4c98-acd5-0086b0f7d76c",
   "metadata": {},
   "outputs": [
    {
     "name": "stdout",
     "output_type": "stream",
     "text": [
      "Downloading data from https://storage.googleapis.com/tensorflow/keras-applications/vgg16/vgg16_weights_tf_dim_ordering_tf_kernels_notop.h5\n",
      "58889256/58889256 [==============================] - 9s 0us/step\n",
      "Model: \"vgg16\"\n",
      "_________________________________________________________________\n",
      " Layer (type)                Output Shape              Param #   \n",
      "=================================================================\n",
      " input_1 (InputLayer)        [(None, 150, 150, 3)]     0         \n",
      "                                                                 \n",
      " block1_conv1 (Conv2D)       (None, 150, 150, 64)      1792      \n",
      "                                                                 \n",
      " block1_conv2 (Conv2D)       (None, 150, 150, 64)      36928     \n",
      "                                                                 \n",
      " block1_pool (MaxPooling2D)  (None, 75, 75, 64)        0         \n",
      "                                                                 \n",
      " block2_conv1 (Conv2D)       (None, 75, 75, 128)       73856     \n",
      "                                                                 \n",
      " block2_conv2 (Conv2D)       (None, 75, 75, 128)       147584    \n",
      "                                                                 \n",
      " block2_pool (MaxPooling2D)  (None, 37, 37, 128)       0         \n",
      "                                                                 \n",
      " block3_conv1 (Conv2D)       (None, 37, 37, 256)       295168    \n",
      "                                                                 \n",
      " block3_conv2 (Conv2D)       (None, 37, 37, 256)       590080    \n",
      "                                                                 \n",
      " block3_conv3 (Conv2D)       (None, 37, 37, 256)       590080    \n",
      "                                                                 \n",
      " block3_pool (MaxPooling2D)  (None, 18, 18, 256)       0         \n",
      "                                                                 \n",
      " block4_conv1 (Conv2D)       (None, 18, 18, 512)       1180160   \n",
      "                                                                 \n",
      " block4_conv2 (Conv2D)       (None, 18, 18, 512)       2359808   \n",
      "                                                                 \n",
      " block4_conv3 (Conv2D)       (None, 18, 18, 512)       2359808   \n",
      "                                                                 \n",
      " block4_pool (MaxPooling2D)  (None, 9, 9, 512)         0         \n",
      "                                                                 \n",
      " block5_conv1 (Conv2D)       (None, 9, 9, 512)         2359808   \n",
      "                                                                 \n",
      " block5_conv2 (Conv2D)       (None, 9, 9, 512)         2359808   \n",
      "                                                                 \n",
      " block5_conv3 (Conv2D)       (None, 9, 9, 512)         2359808   \n",
      "                                                                 \n",
      " block5_pool (MaxPooling2D)  (None, 4, 4, 512)         0         \n",
      "                                                                 \n",
      "=================================================================\n",
      "Total params: 14714688 (56.13 MB)\n",
      "Trainable params: 14714688 (56.13 MB)\n",
      "Non-trainable params: 0 (0.00 Byte)\n",
      "_________________________________________________________________\n"
     ]
    }
   ],
   "source": [
    "# VGG16은 tensorflow keras안에서 제공되요.\n",
    "# 진짜 모델이 keras안에 포함된건 아니구요.\n",
    "# keras를 이용하면 쉽게 다운로드 받을 수 있어요!\n",
    "from tensorflow.keras.applications import VGG16\n",
    "\n",
    "model_base = VGG16(weights='imagenet',\n",
    "                  include_top=False, # 특징만 추출하고 분류기는 직접 구현해야 해요!\n",
    "                  input_shape=(150,150,3))\n",
    "\n",
    "model_base.summary()"
   ]
  },
  {
   "cell_type": "code",
   "execution_count": null,
   "id": "595194f6-4b03-4442-ba32-32720aabd1dd",
   "metadata": {
    "scrolled": true
   },
   "outputs": [],
   "source": [
    "# 우리의 데이터를 model_base에 통과시켜서 그 결과인\n",
    "# feature map을 ndarray에 저장할거에요!\n",
    "\n",
    "# 그런 다음에 이 ndarray를 이용해서 classifier에 입력으로 넣어서 학습할거에요!\n",
    "import os\n",
    "import numpy as np\n",
    "from tensorflow.keras.preprocessing.image import ImageDataGenerator\n",
    "from tensorflow.keras.applications import VGG16\n",
    "\n",
    "model_base = VGG16(weights='imagenet',\n",
    "                  include_top=False,\n",
    "                  input_shape=(150,150,3))\n",
    "\n",
    "base_dir='./data/cat_dog_small'\n",
    "train_dir = os.path.join(base_dir, 'train')\n",
    "validation_dir = os.path.join(base_dir, 'validation')\n",
    "test_dir = os.path.join(base_dir, 'test')\n",
    "\n",
    "data_gen = ImageDataGenerator(rescale=1/255)\n",
    "batch_size = 20\n",
    "\n",
    "# 특정 폴더안에서 이미지 파일을 읽어서\n",
    "# 해당 이미지의 픽셀을 추출해서 return하는게 아니라\n",
    "# 이 이미지의 특징을 뽑고 그 특징 이미지의 픽셀데이터를 return하는 함수\n",
    "def extract_feature(directory, sample_count):\n",
    "    # 입력이미지의 특징을 추출해서 ndarray로 return\n",
    "    features = np.zeros(shape=(sample_count, 4, 4, 512)) # VGG16에서 추출한 특징의 shape\n",
    "    labels = np.zeros(shape=(sample_count,))\n",
    "\n",
    "    generator = data_gen.flow_from_directory(\n",
    "        directory,\n",
    "        classes=['cats', 'dogs'],\n",
    "        target_size=(150,150),\n",
    "        batch_size=batch_size,\n",
    "        class_mode='binary'\n",
    "    )\n",
    "\n",
    "    i = 0\n",
    "    for x_data_batch, t_data_batch in generator:\n",
    "        feature_batch = model_base.predict(x_data_batch)\n",
    "        features[i * batch_size:(i + 1) * batch_size] = feature_batch\n",
    "        labels[i * batch_size:(i + 1) * batch_size] = t_data_batch\n",
    "        i += 1\n",
    "        if i * batch_size >= sample_count:\n",
    "            break\n",
    "\n",
    "    return features, labels\n",
    "\n",
    "train_features, train_labels = extract_feature(train_dir, 2000)\n",
    "validation_features, validation_labels = extract_feature(validation_dir, 1000)\n",
    "test_features, test_labels = extract_feature(test_dir, 1000)"
   ]
  },
  {
   "cell_type": "code",
   "execution_count": 9,
   "id": "03e807a2-0db1-4e39-8cb1-2475e0cc5f1a",
   "metadata": {},
   "outputs": [],
   "source": [
    "# train_features(4차원), train_labels(1차원)\n",
    "# validation_features, validation_labels\n",
    "# test_features, test_labels\n",
    "x_data_train = train_features.reshape(2000, 4*4*512)\n",
    "t_data_train = train_labels.reshape(-1, 1)\n",
    "\n",
    "x_data_validation = validation_features.reshape(1000, 4*4*512)\n",
    "t_data_validation = validation_labels.reshape(-1, 1)\n",
    "\n",
    "x_data_test = test_features.reshape(1000, 4*4*512)\n",
    "t_data_test = test_labels.reshape(-1, 1)"
   ]
  },
  {
   "cell_type": "code",
   "execution_count": 16,
   "id": "c715135f-2278-4094-a49e-3ff3b0d00d42",
   "metadata": {},
   "outputs": [],
   "source": [
    "# classifier 구현\n",
    "from tensorflow.keras.models import Sequential\n",
    "from tensorflow.keras.layers import Dropout, Dense\n",
    "from tensorflow.keras.optimizers import Adam\n",
    "\n",
    "model = Sequential()\n",
    "model.add(Dense(units=256,\n",
    "               activation='relu',\n",
    "               input_shape=(4*4*512,)))\n",
    "model.add(Dropout(rate=0.5))\n",
    "model.add(Dense(units=1,\n",
    "                activation='sigmoid'))\n",
    "\n",
    "model.compile(optimizer=Adam(learning_rate=1e-4),\n",
    "             loss='binary_crossentropy',\n",
    "             metrics=['accuracy'])"
   ]
  },
  {
   "cell_type": "code",
   "execution_count": null,
   "id": "eed15459-5775-4d73-9c5f-6efb1c26bcd7",
   "metadata": {
    "scrolled": true
   },
   "outputs": [],
   "source": [
    "history = model.fit(x_data_train,\n",
    "                   t_data_train,\n",
    "                   epochs=30,\n",
    "                   batch_size=20,\n",
    "                   validation_data=(x_data_validation, t_data_validation),\n",
    "                   verbose=1)\n",
    "# Epoch 30/30\n",
    "# 100/100 [==============================] - 0s 4ms/step - \n",
    "# loss: 0.0082 - accuracy: 1.0000 - val_loss: 0.3119 - val_accuracy: 0.9060"
   ]
  },
  {
   "cell_type": "code",
   "execution_count": 19,
   "id": "4cf13a38-6b9c-45fa-a3ad-33df5220a85c",
   "metadata": {},
   "outputs": [
    {
     "data": {
      "image/png": "[encoded data removed]",
      "text/plain": [
       "<Figure size 640x480 with 1 Axes>"
      ]
     },
     "metadata": {},
     "output_type": "display_data"
    }
   ],
   "source": [
    "plt.plot(history.history['loss'], color='r')\n",
    "plt.plot(history.history['val_loss'], color='b')\n",
    "\n",
    "plt.show()"
   ]
  },
  {
   "cell_type": "code",
   "execution_count": 20,
   "id": "a8f03ad0-3923-4483-b381-aa11c0416e04",
   "metadata": {},
   "outputs": [
    {
     "data": {
      "image/png": "[encoded data removed]",
      "text/plain": [
       "<Figure size 640x480 with 1 Axes>"
      ]
     },
     "metadata": {},
     "output_type": "display_data"
    }
   ],
   "source": [
    "plt.plot(history.history['accuracy'], color='r')\n",
    "plt.plot(history.history['val_accuracy'], color='b')\n",
    "\n",
    "plt.show()"
   ]
  }
 ],
 "metadata": {
  "kernelspec": {
   "display_name": "tf_gpu",
   "language": "python",
   "name": "tf_gpu"
  },
  "language_info": {
   "codemirror_mode": {
    "name": "ipython",
    "version": 3
   },
   "file_extension": ".py",
   "mimetype": "text/x-python",
   "name": "python",
   "nbconvert_exporter": "python",
   "pygments_lexer": "ipython3",
   "version": "3.10.16"
  }
 },
 "nbformat": 4,
 "nbformat_minor": 5
}
