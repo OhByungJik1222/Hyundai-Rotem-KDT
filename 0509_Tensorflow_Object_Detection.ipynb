{
 "cells": [
  {
   "cell_type": "code",
   "execution_count": 1,
   "id": "545299a0-5288-4eaf-9edf-1ff1b8464a76",
   "metadata": {},
   "outputs": [],
   "source": [
    "# 사용하는 최상위 폴더를 변수로 하나 선언\n",
    "ROOT_FOLDER = '/root/jupyter_home/TF2_Object_Detection'"
   ]
  },
  {
   "cell_type": "code",
   "execution_count": 2,
   "id": "456f5050-e483-46bf-b78c-23ac899b5830",
   "metadata": {},
   "outputs": [],
   "source": [
    "!mkdir $ROOT_FOLDER"
   ]
  },
  {
   "cell_type": "code",
   "execution_count": 4,
   "id": "84bbee6c-0b37-4005-b697-0c1ce91a1265",
   "metadata": {},
   "outputs": [
    {
     "name": "stdout",
     "output_type": "stream",
     "text": [
      "/root/jupyter_home/TF2_Object_Detection\n"
     ]
    }
   ],
   "source": [
    "cd $ROOT_FOLDER"
   ]
  },
  {
   "cell_type": "code",
   "execution_count": 5,
   "id": "989c621b-7fb9-489f-adcf-398d66fa3e93",
   "metadata": {},
   "outputs": [
    {
     "name": "stdout",
     "output_type": "stream",
     "text": [
      "Cloning into 'models'...\n",
      "remote: Enumerating objects: 99863, done.\u001b[K\n",
      "remote: Counting objects: 100% (54/54), done.\u001b[K\n",
      "remote: Compressing objects: 100% (37/37), done.\u001b[K\n",
      "remote: Total 99863 (delta 33), reused 31 (delta 17), pack-reused 99809 (from 2)\u001b[K\n",
      "Receiving objects: 100% (99863/99863), 625.36 MiB | 2.78 MiB/s, done.\n",
      "Resolving deltas: 100% (71934/71934), done.\n"
     ]
    }
   ],
   "source": [
    "# Tensorflow는 Object Detection에 관련된 여러 API를 github repository로 제공!\n",
    "# 우리는 repository를 clone해서 사용할거에요!\n",
    "!git clone https://github.com/tensorflow/models.git"
   ]
  },
  {
   "cell_type": "code",
   "execution_count": 6,
   "id": "3b8f9643-078b-49b1-86a8-616e6499b8bc",
   "metadata": {},
   "outputs": [],
   "source": [
    "# 다운로드가 끝나면 models 폴더가 생성되요!\n",
    "# models 안에 research 폴더가 있어요!\n",
    "# 이 models/research 폴더로 working directory를 이동시켜요!"
   ]
  },
  {
   "cell_type": "code",
   "execution_count": 7,
   "id": "d5f06006-7be7-41d2-a2cf-da9c102f3868",
   "metadata": {},
   "outputs": [
    {
     "name": "stdout",
     "output_type": "stream",
     "text": [
      "/root/jupyter_home/TF2_Object_Detection/models/research\n"
     ]
    }
   ],
   "source": [
    "cd $ROOT_FOLDER/models/research"
   ]
  },
  {
   "cell_type": "code",
   "execution_count": 8,
   "id": "a38065cb-5d12-4f3a-a2de-cddb24a6ee65",
   "metadata": {},
   "outputs": [],
   "source": [
    "# 오늘은 데이터를 TFRecord로 만들어야 해요!\n",
    "# tensorflow의 기본 데이터 format.\n",
    "# TFRecord는 Example로 구성되어있고 Example은 Features로 되어 있어요!\n",
    "# Features는 여러개의 Feature들의 집합이에요!\n",
    "# 결국 이런 Feature들을 이진 직렬화 시켜서 파일에 저장하는 구조\n",
    "# 직렬화 방법은 Protocol Buffer를 사용해요!\n",
    "# .proto 파일(뼈대 파일)을 컴파일해서 .py를 생성해야 코드에서 사용할 수 있어요!"
   ]
  },
  {
   "cell_type": "code",
   "execution_count": 9,
   "id": "88a68b22-5319-4e05-927d-5e5055ea7ba5",
   "metadata": {},
   "outputs": [
    {
     "name": "stdout",
     "output_type": "stream",
     "text": [
      "__init__.py\t\t\t      keypoint_box_coder.proto\n",
      "anchor_generator.proto\t\t      losses.proto\n",
      "argmax_matcher.proto\t\t      matcher.proto\n",
      "bipartite_matcher.proto\t\t      mean_stddev_box_coder.proto\n",
      "box_coder.proto\t\t\t      model.proto\n",
      "box_predictor.proto\t\t      multiscale_anchor_generator.proto\n",
      "calibration.proto\t\t      optimizer.proto\n",
      "center_net.proto\t\t      pipeline.proto\n",
      "eval.proto\t\t\t      post_processing.proto\n",
      "faster_rcnn.proto\t\t      preprocessor.proto\n",
      "faster_rcnn_box_coder.proto\t      region_similarity_calculator.proto\n",
      "flexible_grid_anchor_generator.proto  square_box_coder.proto\n",
      "fpn.proto\t\t\t      ssd.proto\n",
      "graph_rewriter.proto\t\t      ssd_anchor_generator.proto\n",
      "grid_anchor_generator.proto\t      string_int_label_map.proto\n",
      "hyperparams.proto\t\t      target_assigner.proto\n",
      "image_resizer.proto\t\t      train.proto\n",
      "input_reader.proto\n"
     ]
    }
   ],
   "source": [
    "# 현재 working directory는 models/reasearch\n",
    "!ls object_detection/protos"
   ]
  },
  {
   "cell_type": "code",
   "execution_count": 12,
   "id": "a6629f30-fcc1-4cb0-b802-3887523c9449",
   "metadata": {},
   "outputs": [
    {
     "name": "stdout",
     "output_type": "stream",
     "text": [
      "libprotoc 3.20.3\n"
     ]
    }
   ],
   "source": [
    "# 위에 있는 .proto 파일들을 컴파일해야 해요!\n",
    "# protoc라는 compiler를 이용해서 컴파일하면 되요!\n",
    "# 우리는 protoc 버전을 3.20버전을 사용할거에요!\n",
    "# 다른 버전 사용하면 오류 발생!\n",
    "!protoc --version"
   ]
  },
  {
   "cell_type": "code",
   "execution_count": 13,
   "id": "9dde056a-58c1-4969-8837-6853b69ffc14",
   "metadata": {},
   "outputs": [],
   "source": [
    "# 컴파일을 해보아요!\n",
    "!protoc object_detection/protos/*.proto --python_out=."
   ]
  },
  {
   "cell_type": "code",
   "execution_count": 14,
   "id": "77a16ff4-5ad1-4276-bb12-32735fafbf9e",
   "metadata": {},
   "outputs": [
    {
     "name": "stdout",
     "output_type": "stream",
     "text": [
      "__init__.py\t\t\t       keypoint_box_coder.proto\n",
      "anchor_generator.proto\t\t       keypoint_box_coder_pb2.py\n",
      "anchor_generator_pb2.py\t\t       losses.proto\n",
      "argmax_matcher.proto\t\t       losses_pb2.py\n",
      "argmax_matcher_pb2.py\t\t       matcher.proto\n",
      "bipartite_matcher.proto\t\t       matcher_pb2.py\n",
      "bipartite_matcher_pb2.py\t       mean_stddev_box_coder.proto\n",
      "box_coder.proto\t\t\t       mean_stddev_box_coder_pb2.py\n",
      "box_coder_pb2.py\t\t       model.proto\n",
      "box_predictor.proto\t\t       model_pb2.py\n",
      "box_predictor_pb2.py\t\t       multiscale_anchor_generator.proto\n",
      "calibration.proto\t\t       multiscale_anchor_generator_pb2.py\n",
      "calibration_pb2.py\t\t       optimizer.proto\n",
      "center_net.proto\t\t       optimizer_pb2.py\n",
      "center_net_pb2.py\t\t       pipeline.proto\n",
      "eval.proto\t\t\t       pipeline_pb2.py\n",
      "eval_pb2.py\t\t\t       post_processing.proto\n",
      "faster_rcnn.proto\t\t       post_processing_pb2.py\n",
      "faster_rcnn_box_coder.proto\t       preprocessor.proto\n",
      "faster_rcnn_box_coder_pb2.py\t       preprocessor_pb2.py\n",
      "faster_rcnn_pb2.py\t\t       region_similarity_calculator.proto\n",
      "flexible_grid_anchor_generator.proto   region_similarity_calculator_pb2.py\n",
      "flexible_grid_anchor_generator_pb2.py  square_box_coder.proto\n",
      "fpn.proto\t\t\t       square_box_coder_pb2.py\n",
      "fpn_pb2.py\t\t\t       ssd.proto\n",
      "graph_rewriter.proto\t\t       ssd_anchor_generator.proto\n",
      "graph_rewriter_pb2.py\t\t       ssd_anchor_generator_pb2.py\n",
      "grid_anchor_generator.proto\t       ssd_pb2.py\n",
      "grid_anchor_generator_pb2.py\t       string_int_label_map.proto\n",
      "hyperparams.proto\t\t       string_int_label_map_pb2.py\n",
      "hyperparams_pb2.py\t\t       target_assigner.proto\n",
      "image_resizer.proto\t\t       target_assigner_pb2.py\n",
      "image_resizer_pb2.py\t\t       train.proto\n",
      "input_reader.proto\t\t       train_pb2.py\n",
      "input_reader_pb2.py\n"
     ]
    }
   ],
   "source": [
    "!ls object_detection/protos"
   ]
  },
  {
   "cell_type": "code",
   "execution_count": 15,
   "id": "db7324d9-6927-49a9-9497-4dc43f737733",
   "metadata": {},
   "outputs": [],
   "source": [
    "# 이제 1차 준비작업은 됐고\n",
    "# 필요한 package를 추가로 설치해야 해요!\n",
    "# 현재 필요한 모든 기능이 다 갖춰져 있는 상태가 아니에요!\n",
    "# 다운로드 받아서 준비를 해야해요!\n",
    "# 수동으로 하면 너무 힘들어요!\n",
    "# tensorflow에서 자동으로 package를 다운로드 할 수 있는 script를 제공\n",
    "!cp $ROOT_FOLDER/models/research/object_detection/packages/tf2/setup.py $ROOT_FOLDER/models/research"
   ]
  },
  {
   "cell_type": "code",
   "execution_count": null,
   "id": "af22fe42-316e-469d-a282-50ce3b46c2aa",
   "metadata": {
    "scrolled": true
   },
   "outputs": [],
   "source": [
    "# setup.py를 실행시켜서 필요한 package를 설치해요!\n",
    "!python -m pip install ."
   ]
  },
  {
   "cell_type": "code",
   "execution_count": 18,
   "id": "c3c8fff0-12d6-4f4a-a027-808f582c3f5b",
   "metadata": {},
   "outputs": [
    {
     "data": {
      "text/plain": [
       "'2.19.0'"
      ]
     },
     "execution_count": 18,
     "metadata": {},
     "output_type": "execute_result"
    }
   ],
   "source": [
    "import tensorflow as tf\n",
    "tf.__version__"
   ]
  },
  {
   "cell_type": "code",
   "execution_count": null,
   "id": "07f47a89-64ea-4f5f-b52e-11d2199181e8",
   "metadata": {},
   "outputs": [],
   "source": [
    "# Tensorflow 버전이 변경되었어요.\n",
    "# 원래 우리가 사용했던 2.13 버전으로 다시 돌아가야해요!\n",
    "!pip install tensorflow==2.13.0"
   ]
  },
  {
   "cell_type": "code",
   "execution_count": 26,
   "id": "13591b9c-2959-4d0e-a158-dd8a6baaf83b",
   "metadata": {},
   "outputs": [
    {
     "name": "stdout",
     "output_type": "stream",
     "text": [
      "Name: tensorflow\n",
      "Version: 2.13.0\n",
      "Summary: TensorFlow is an open source machine learning framework for everyone.\n",
      "Home-page: https://www.tensorflow.org/\n",
      "Author: Google Inc.\n",
      "Author-email: packages@tensorflow.org\n",
      "License: Apache 2.0\n",
      "Location: /root/anaconda3/envs/tf_env/lib/python3.10/site-packages\n",
      "Requires: absl-py, astunparse, flatbuffers, gast, google-pasta, grpcio, h5py, keras, libclang, numpy, opt-einsum, packaging, protobuf, setuptools, six, tensorboard, tensorflow-estimator, tensorflow-io-gcs-filesystem, termcolor, typing-extensions, wrapt\n",
      "Required-by: tensorflow-text, tf-models-official, tf_keras\n"
     ]
    }
   ],
   "source": [
    "!pip show tensorflow"
   ]
  },
  {
   "cell_type": "code",
   "execution_count": null,
   "id": "b55e45ba-5078-4141-9be5-eb11e57efb7d",
   "metadata": {},
   "outputs": [],
   "source": [
    "# 학습(재학습)을 할 때 처음부터 하지 않아요!\n",
    "# 기존에 학습을 해 놓았던 모델(가중치)를 가져다가 \n",
    "# fine tuning하는 방식으로 학습을 진행!\n",
    "# pretrained network를 받아서 활용할거에요!\n",
    "# pretrained network을 다운로드 받을 폴더를 미리 하나 생성"
   ]
  },
  {
   "cell_type": "code",
   "execution_count": 2,
   "id": "4a38f7a8-23d5-4840-9d3d-e631f7abada2",
   "metadata": {},
   "outputs": [
    {
     "name": "stdout",
     "output_type": "stream",
     "text": [
      "/root/jupyter_home/TF2_Object_Detection\n"
     ]
    }
   ],
   "source": [
    "cd $ROOT_FOLDER"
   ]
  },
  {
   "cell_type": "code",
   "execution_count": 3,
   "id": "e10a6809-68a7-4a60-97c2-f61da34de769",
   "metadata": {},
   "outputs": [],
   "source": [
    "# 폴더를 하나 생성해요!\n",
    "!mkdir $ROOT_FOLDER/pretrained_model"
   ]
  },
  {
   "cell_type": "code",
   "execution_count": 4,
   "id": "6ddb8a7e-1c45-48dc-9c69-b4a0c3dd7a7a",
   "metadata": {},
   "outputs": [],
   "source": [
    "# 준비작업이 끝났으니 이제 TFRecord를 생성해야 해요!\n",
    "# 학습할 데이터 셋을 준비해야해요\n",
    "# PASCAL VOC Data Set을 이용해서 TFRecord를 만들거에요!\n",
    "# 다행히 우리가 TFRecord를 직접 만들지 않아요! 프로그램이 있어요!\n",
    "# PASCAL VOC 형태의 데이터를 TFRecord로 쉽게 변환할 수 있어요!"
   ]
  },
  {
   "cell_type": "code",
   "execution_count": 5,
   "id": "f0606ced-f9fd-4cfc-9e9b-ebfdf01ea307",
   "metadata": {},
   "outputs": [
    {
     "name": "stdout",
     "output_type": "stream",
     "text": [
      "/root/jupyter_home/TF2_Object_Detection/models/research\n"
     ]
    }
   ],
   "source": [
    "cd $ROOT_FOLDER/models/research"
   ]
  },
  {
   "cell_type": "code",
   "execution_count": 6,
   "id": "df8f8ea7-d82b-45f5-b6bd-43ece9fba54b",
   "metadata": {},
   "outputs": [],
   "source": [
    "# PASCAL VOC Data Set을 가져올거에요!\n",
    "!cp /root/jupyter_home/YOLO_Object_Detection/VOC/VOCtrainval_06-Nov-2007.tar ."
   ]
  },
  {
   "cell_type": "code",
   "execution_count": null,
   "id": "98c5efd9-1e5b-43d0-9720-dab035800236",
   "metadata": {
    "scrolled": true
   },
   "outputs": [],
   "source": [
    "!tar xvf VOCtrainval_06-Nov-2007.tar"
   ]
  },
  {
   "cell_type": "code",
   "execution_count": 8,
   "id": "dc4eb8e6-aff7-4568-becd-d75fbf9732b3",
   "metadata": {},
   "outputs": [],
   "source": [
    "# 이제 데이터가 준비되었어요!\n",
    "# 1. class 이름이 명시된 파일을 하나 생성해야되요!\n",
    "#    .pbtxt 라고해요!\n",
    "#    나름대로의 형식이 있어요!\n",
    "#    코드로 만들어 보아요!\n",
    "voc_classes = [\n",
    "    \"aeroplane\", \"bicycle\", \"bird\", \"boat\", \"bottle\",\n",
    "    \"bus\", \"car\", \"cat\", \"chair\", \"cow\",\n",
    "    \"diningtable\", \"dog\", \"horse\", \"motorbike\", \"person\",\n",
    "    \"pottedplant\", \"sheep\", \"sofa\", \"train\", \"tvmonitor\"\n",
    "]\n",
    "\n",
    "with open(\"label_map.pbtxt\", \"w\") as f:\n",
    "    for idx, class_name in enumerate(voc_classes, 1):\n",
    "        f.write(\"item {\\n\")\n",
    "        f.write(f\"  id: {idx}\\n\")\n",
    "        f.write(f\"  name: '{class_name}'\\n\")\n",
    "        f.write(\"}\\n\\n\")"
   ]
  },
  {
   "cell_type": "code",
   "execution_count": 9,
   "id": "b97e8c49-f6f3-46b3-bd1f-2299c81a6c97",
   "metadata": {},
   "outputs": [
    {
     "name": "stdout",
     "output_type": "stream",
     "text": [
      "TFRecord 생성 완료: ./pascal_train.tfrecord\n"
     ]
    }
   ],
   "source": [
    "# TFRecord를 생성하는 Python 프로그램도 생겼으니 이제 해당코드를\n",
    "# 이용해서 PASCAL VOC Data를 TFRecord로 변환시켜 보아요!\n",
    "!python ./create_pascal_tf_record.py \\\n",
    "    --data_dir=VOCdevkit \\\n",
    "    --year=VOC2007 \\\n",
    "    --set=train \\\n",
    "    --output_path=./pascal_train.tfrecord \\\n",
    "    --label_map_path=./label_map.pbtxt"
   ]
  },
  {
   "cell_type": "code",
   "execution_count": 10,
   "id": "6737ba9b-03a2-4957-802d-7989ba2898bd",
   "metadata": {},
   "outputs": [
    {
     "name": "stdout",
     "output_type": "stream",
     "text": [
      "TFRecord 생성 완료: ./pascal_val.tfrecord\n"
     ]
    }
   ],
   "source": [
    "!python ./create_pascal_tf_record.py \\\n",
    "    --data_dir=VOCdevkit \\\n",
    "    --year=VOC2007 \\\n",
    "    --set=val \\\n",
    "    --output_path=./pascal_val.tfrecord \\\n",
    "    --label_map_path=./label_map.pbtxt"
   ]
  },
  {
   "cell_type": "code",
   "execution_count": null,
   "id": "3e49091f-be7e-40bb-b025-e8f75a1a04de",
   "metadata": {},
   "outputs": [],
   "source": [
    "# 이렇게 해서 입력데이터 준비가 끝나요!\n",
    "\n",
    "# 모델생성해서 학습을 진행하면 되요!\n",
    "# 모델은 pretrained network를 이용할거에요!\n",
    "# 우리가 사용하는 모델은 faster-RCNN 모델을 이용\n",
    "\n",
    "# 학습을 하기 위해서 디렉토리 구조를 만들어야 해요!\n",
    "# TF2_Object_Detention/my_object_detection_model/\n",
    "#   ㄴ data/ \n",
    "#        ㄴ .pbtxt(class)\n",
    "#        ㄴ 2개의 TFRecord\n",
    "#   ㄴ models/\n",
    "#        ㄴ pascal_voc_model/\n",
    "#             ㄴ my_model.config(설정 파일)"
   ]
  },
  {
   "cell_type": "code",
   "execution_count": 12,
   "id": "a6aeabb4-2c35-4b79-b6b7-3d817a861c29",
   "metadata": {},
   "outputs": [],
   "source": [
    "!mkdir $ROOT_FOLDER/my_object_detection_model"
   ]
  },
  {
   "cell_type": "code",
   "execution_count": 13,
   "id": "74a3c45d-c375-4a12-b8c0-dff8d0da211b",
   "metadata": {},
   "outputs": [],
   "source": [
    "!mkdir $ROOT_FOLDER/my_object_detection_model/data\n",
    "!mkdir $ROOT_FOLDER/my_object_detection_model/models"
   ]
  },
  {
   "cell_type": "code",
   "execution_count": 15,
   "id": "6453ec9c-8570-46d3-8622-559f0192506c",
   "metadata": {},
   "outputs": [],
   "source": [
    "!mkdir $ROOT_FOLDER/my_object_detection_model/models/pascal_voc_model"
   ]
  },
  {
   "cell_type": "code",
   "execution_count": 16,
   "id": "e4750ea8-6330-4b18-b521-3efa10ca42f6",
   "metadata": {},
   "outputs": [],
   "source": [
    "# 폴더 구조는 다 생성을 했으니\n",
    "# 먼저 data폴더에 아까 생성한 pbtxt, tfrecord 파일을 복사해요!\n",
    "!cp $ROOT_FOLDER/models/research/label_map.pbtxt $ROOT_FOLDER/my_object_detection_model/data\n",
    "!cp $ROOT_FOLDER/models/research/pascal_train.tfrecord $ROOT_FOLDER/my_object_detection_model/data\n",
    "!cp $ROOT_FOLDER/models/research/pascal_val.tfrecord $ROOT_FOLDER/my_object_detection_model/data"
   ]
  },
  {
   "cell_type": "code",
   "execution_count": 17,
   "id": "45e2d25b-db24-4078-9793-fcbffdca28ae",
   "metadata": {},
   "outputs": [],
   "source": [
    "# 모델을 학습하기 위해 필요한 설정파일을 하나 만들었어요!\n",
    "# $ROOT_FOLDER/my_object_detection_model/models/pascal_voc_model/my_model.cfg\n",
    "# 이렇게 만들어놨어요!"
   ]
  },
  {
   "cell_type": "code",
   "execution_count": null,
   "id": "d0c69d55-56e3-45e5-8736-4538e9fb33ff",
   "metadata": {},
   "outputs": [],
   "source": [
    "# Pretrained Network을 받아와야 해요!\n",
    "# 학습을 처음부터 시작할 수는 없어요!"
   ]
  },
  {
   "cell_type": "code",
   "execution_count": 18,
   "id": "90058823-416a-43a1-9c61-b78f85826996",
   "metadata": {},
   "outputs": [
    {
     "name": "stdout",
     "output_type": "stream",
     "text": [
      "/root/jupyter_home/TF2_Object_Detection/pretrained_model\n"
     ]
    }
   ],
   "source": [
    "cd $ROOT_FOLDER/pretrained_model"
   ]
  },
  {
   "cell_type": "code",
   "execution_count": 19,
   "id": "abb85502-3adb-47ca-9dc2-ba6eac7ef4c9",
   "metadata": {},
   "outputs": [
    {
     "name": "stdout",
     "output_type": "stream",
     "text": [
      "--2025-05-09 12:33:46--  http://download.tensorflow.org/models/object_detection/tf2/20200711/faster_rcnn_resnet101_v1_800x1333_coco17_gpu-8.tar.gz\n",
      "34.128.9.251, 34.128.9.187, 34.64.4.91, ....tensorflow.org)... \n",
      "connected. to download.tensorflow.org (download.tensorflow.org)|34.128.9.251|:80... \n",
      "200 OKequest sent, awaiting response... \n",
      "Length: 359156023 (343M) [application/x-tar]\n",
      "Saving to: ‘faster_rcnn_resnet101_v1_800x1333_coco17_gpu-8.tar.gz’\n",
      "\n",
      "faster_rcnn_resnet1 100%[===================>] 342.52M  9.85MB/s    in 2m 2s   \n",
      "\n",
      "2025-05-09 12:35:49 (2.81 MB/s) - ‘faster_rcnn_resnet101_v1_800x1333_coco17_gpu-8.tar.gz’ saved [359156023/359156023]\n",
      "\n"
     ]
    }
   ],
   "source": [
    "!wget http://download.tensorflow.org/models/object_detection/tf2/20200711/faster_rcnn_resnet101_v1_800x1333_coco17_gpu-8.tar.gz"
   ]
  },
  {
   "cell_type": "code",
   "execution_count": 20,
   "id": "0536ffe0-8d99-485b-b265-43a5e553ed6f",
   "metadata": {},
   "outputs": [
    {
     "name": "stdout",
     "output_type": "stream",
     "text": [
      "faster_rcnn_resnet101_v1_800x1333_coco17_gpu-8/\n",
      "faster_rcnn_resnet101_v1_800x1333_coco17_gpu-8/checkpoint/\n",
      "faster_rcnn_resnet101_v1_800x1333_coco17_gpu-8/checkpoint/ckpt-0.data-00000-of-00001\n",
      "faster_rcnn_resnet101_v1_800x1333_coco17_gpu-8/checkpoint/checkpoint\n",
      "faster_rcnn_resnet101_v1_800x1333_coco17_gpu-8/checkpoint/ckpt-0.index\n",
      "faster_rcnn_resnet101_v1_800x1333_coco17_gpu-8/pipeline.config\n",
      "faster_rcnn_resnet101_v1_800x1333_coco17_gpu-8/saved_model/\n",
      "faster_rcnn_resnet101_v1_800x1333_coco17_gpu-8/saved_model/saved_model.pb\n",
      "faster_rcnn_resnet101_v1_800x1333_coco17_gpu-8/saved_model/variables/\n",
      "faster_rcnn_resnet101_v1_800x1333_coco17_gpu-8/saved_model/variables/variables.data-00000-of-00001\n",
      "faster_rcnn_resnet101_v1_800x1333_coco17_gpu-8/saved_model/variables/variables.index\n"
     ]
    }
   ],
   "source": [
    "!tar xvf faster_rcnn_resnet101_v1_800x1333_coco17_gpu-8.tar.gz"
   ]
  },
  {
   "cell_type": "code",
   "execution_count": 22,
   "id": "ff4dec86-4018-47c1-a073-ec4dbf13387c",
   "metadata": {},
   "outputs": [],
   "source": [
    "# 압축이 풀리면 여러개의 폴더와 파일이 나와요!\n",
    "# 모델이 가지고 있는 checkpoint(가중치)가 필요해요!\n",
    "# 그 가중치만 특정 폴더에 복사해서 사용할거에요!\n",
    "\n",
    "# 가중치 정보는 checkpoint라는 폴더 안에 들어가 있어요!\n",
    "# 이 폴더를 my_object_detection_model 폴더에 복사할 거에요!\n",
    "!cp -r $ROOT_FOLDER/pretrained_model/faster_rcnn_resnet101_v1_800x1333_coco17_gpu-8/checkpoint $ROOT_FOLDER/my_object_detection_model"
   ]
  },
  {
   "cell_type": "code",
   "execution_count": 23,
   "id": "833356a1-4844-47e8-b971-73c5c17f9609",
   "metadata": {},
   "outputs": [],
   "source": [
    "# 모델을 학습할 준비가 끝났으니 이제 학습을 진행해보아요!\n",
    "# tensorflow 버전은 2.13버전을 사용해야 해요.\n",
    "# 만약 버전이 다르면 오류나요!\n",
    "# 학습은 $ROOT_FOLDER/models/research 이 폴더 안에서 진행해요!"
   ]
  },
  {
   "cell_type": "code",
   "execution_count": 24,
   "id": "c6ed5368-795e-42ca-97db-4eac8d16a9d4",
   "metadata": {},
   "outputs": [
    {
     "name": "stdout",
     "output_type": "stream",
     "text": [
      "/root/jupyter_home/TF2_Object_Detection/models/research\n"
     ]
    }
   ],
   "source": [
    "cd $ROOT_FOLDER/models/research"
   ]
  },
  {
   "cell_type": "code",
   "execution_count": null,
   "id": "61c72861-ecfb-408b-8b99-d4ed7a8ce9cf",
   "metadata": {},
   "outputs": [],
   "source": [
    "# 학습을 해 보아요!\n",
    "!python object_detection/model_main_tf2.py \\\n",
    "    --pipeline_config_path=$ROOT_FOLDER/my_object_detection_model/models/pascal_voc_model/my_model.config \\\n",
    "    --model_dir=$ROOT_FOLDER/my_object_detection_model/models/pascal_voc_model \\\n",
    "    --alsologtostderr"
   ]
  }
 ],
 "metadata": {
  "kernelspec": {
   "display_name": "tf_env",
   "language": "python",
   "name": "tf_env"
  },
  "language_info": {
   "codemirror_mode": {
    "name": "ipython",
    "version": 3
   },
   "file_extension": ".py",
   "mimetype": "text/x-python",
   "name": "python",
   "nbconvert_exporter": "python",
   "pygments_lexer": "ipython3",
   "version": "3.10.16"
  }
 },
 "nbformat": 4,
 "nbformat_minor": 5
}
