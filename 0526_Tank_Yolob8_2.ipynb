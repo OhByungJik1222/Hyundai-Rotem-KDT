{
 "cells": [
  {
   "cell_type": "code",
   "execution_count": 2,
   "id": "db24129a-0550-4217-8b9d-cb81e3872c41",
   "metadata": {},
   "outputs": [],
   "source": [
    "ROOT_FOLDER = '/root/jupyter_home/YOLOv8_Object_Detection'"
   ]
  },
  {
   "cell_type": "code",
   "execution_count": 3,
   "id": "66852905-d726-474a-98cc-46c6697dbf8d",
   "metadata": {},
   "outputs": [
    {
     "name": "stdout",
     "output_type": "stream",
     "text": [
      "/root/jupyter_home/YOLOv8_Object_Detection\n"
     ]
    }
   ],
   "source": [
    "cd $ROOT_FOLDER"
   ]
  },
  {
   "cell_type": "code",
   "execution_count": 4,
   "id": "84b50148-1f4f-43dc-9d40-aeb534f0c3b5",
   "metadata": {},
   "outputs": [
    {
     "name": "stdout",
     "output_type": "stream",
     "text": [
      "/root/jupyter_home/YOLOv8_Object_Detection/datasets\n"
     ]
    }
   ],
   "source": [
    "cd datasets"
   ]
  },
  {
   "cell_type": "code",
   "execution_count": null,
   "id": "ccff2d13-19d8-4980-8bc7-4f2e7ec40a11",
   "metadata": {},
   "outputs": [],
   "source": [
    "!unzip tank_images.zip"
   ]
  },
  {
   "cell_type": "code",
   "execution_count": null,
   "id": "c1a2d3cf-1c82-4a53-a5a6-d19559d20774",
   "metadata": {},
   "outputs": [],
   "source": [
    "from ultralytics import YOLO\n",
    "model = YOLO('yolov8s.pt')\n",
    "\n",
    "# 재학습\n",
    "results = model.train(\n",
    "    data='./tank_images/data.yaml',\n",
    "    epochs=50,\n",
    "    imgsz=640,\n",
    "    batch=16,\n",
    "    device=0,\n",
    "    workers=4,\n",
    "    name='yolv8s_tankv1'\n",
    ")\n",
    "#   all         82         95      0.996          1      0.995      0.888\n",
    "#  car1         20         26      0.999          1      0.995      0.906\n",
    "#  car2         22         26      0.995          1      0.995      0.908\n",
    "# human         20         20      0.997          1      0.995      0.814\n",
    "#  tank         20         23      0.994          1      0.995      0.925"
   ]
  }
 ],
 "metadata": {
  "kernelspec": {
   "display_name": "keras_env",
   "language": "python",
   "name": "keras_env"
  },
  "language_info": {
   "codemirror_mode": {
    "name": "ipython",
    "version": 3
   },
   "file_extension": ".py",
   "mimetype": "text/x-python",
   "name": "python",
   "nbconvert_exporter": "python",
   "pygments_lexer": "ipython3",
   "version": "3.10.16"
  }
 },
 "nbformat": 4,
 "nbformat_minor": 5
}
