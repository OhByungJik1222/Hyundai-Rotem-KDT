{
 "cells": [
  {
   "cell_type": "code",
   "execution_count": null,
   "id": "17f443bd",
   "metadata": {},
   "outputs": [],
   "source": [
    "# Attention 연산의 Simple 버전\n",
    "# 입력 문장\n",
    "# -> Query, Key, Value 데이터를 생성\n",
    "# -> Query와 Key의 유사도를 계산(내적) -> Attention Score\n",
    "# -> Attention Score를 이용해서 Value의 가중합 -> Attention Output"
   ]
  },
  {
   "cell_type": "code",
   "execution_count": null,
   "id": "6cd3b39b",
   "metadata": {},
   "outputs": [
    {
     "name": "stdout",
     "output_type": "stream",
     "text": [
      "[1. 2. 2.]\n",
      "[0.1553624 0.4223188 0.4223188]\n",
      "[[0.1553624]\n",
      " [0.4223188]\n",
      " [0.4223188]]\n",
      "[[1.55362403 0.         0.        ]\n",
      " [0.         4.22318798 0.        ]\n",
      " [0.         0.         4.22318798]]\n",
      "[1.55362403 4.22318798 4.22318798]\n"
     ]
    }
   ],
   "source": [
    "import numpy as np\n",
    "\n",
    "# 입력 데이터는 '나는 너를 사랑해'\n",
    "# 입력 데이터는 => ['나는', '너를', '사랑해']\n",
    "token = ['나는', '너를', '사랑해']\n",
    "# '나는' => [1.0, 0.0, 1.0] (Embedding)\n",
    "# '너를' => [1.0, 1.0, 1.0] (Embedding)\n",
    "# '사랑해' => [1.0, 1.0, 0.0] (Embedding)\n",
    "\n",
    "# 원래는 값을 변환시켜서 사용해야 해요!\n",
    "# 계산이 힘들어서 같은 값을 사용\n",
    "key_vector = np.array([[1.0, 0.0, 1.0],  # '나는'\n",
    "                       [1.0, 1.0, 1.0],  # '너를'\n",
    "                       [1.0, 1.0, 0.0]]) # '사랑해'\n",
    "\n",
    "value_vector = np.array([[10.0, 0.0, 0.0],  # '나는'\n",
    "                         [0.0, 10.0, 0.0],  # '너를'\n",
    "                         [0.0, 0.0, 10.0]]) # '사랑해'\n",
    "\n",
    "query = key_vector[2] # [1.0, 1.0, 0.0] '사랑해'\n",
    "\n",
    "# 1. 유사도 계산(내적을 이용해서 계산)\n",
    "score = np.dot(key_vector, query)\n",
    "print(score) # [1. 2. 2.]\n",
    "\n",
    "# 2. 숫자의 안정화를 시키기 위해서 embedding의 차원의 root값을\n",
    "#    이용해서 값을 나눠야 해요!\n",
    "#    원래는 np.sqrt(3)을 구해서 각각의 값을 나눠줘야 해요!\n",
    "#    지금은 생략!\n",
    "\n",
    "# 3. softmax를 이용해서 확률값으로 변경\n",
    "#    확률값으로 변경하려면 사실 쉬운 방법이 있어요!\n",
    "#    모두 더한 후 그 값으로 각각의 값을 나눠주면 되요!\n",
    "#    [0.2 0.4 0.4]\n",
    "#    값이 큰 것에 더 가중치를 줘서 확률값으로 변경\n",
    "def softmax(x):\n",
    "    exp_x = np.exp(x - np.max(x)) # 지수 함수라서 값이 커지면 급격하게 결과값이 커져요!\n",
    "    return exp_x / exp_x.sum()\n",
    "\n",
    "attention_weighted = softmax(score)\n",
    "print(attention_weighted) # [0.1553624 0.4223188 0.4223188] (3,)\n",
    "# 결국 가중치를 구했어요!\n",
    "\n",
    "print(attention_weighted[:, np.newaxis])\n",
    "# [[0.1553624]\n",
    "#  [0.4223188]\n",
    "#  [0.4223188]] (3,1)\n",
    "\n",
    "print(attention_weighted[:, np.newaxis] * value_vector)\n",
    "# [[1.55362403 0.         0.        ]\n",
    "#  [0.         4.22318798 0.        ]\n",
    "#  [0.         0.         4.22318798]]\n",
    "\n",
    "# 이를 이용해서 Attention Output을 구할 수 있어요!\n",
    "print(np.sum(attention_weighted[:, np.newaxis] * value_vector,\n",
    "             axis=0))\n",
    "# [1.55362403 4.22318798 4.22318798]\n",
    "# 이 값은 '사랑해'라는 Query의 Attention Output"
   ]
  }
 ],
 "metadata": {
  "kernelspec": {
   "display_name": "nlp_env",
   "language": "python",
   "name": "python3"
  },
  "language_info": {
   "codemirror_mode": {
    "name": "ipython",
    "version": 3
   },
   "file_extension": ".py",
   "mimetype": "text/x-python",
   "name": "python",
   "nbconvert_exporter": "python",
   "pygments_lexer": "ipython3",
   "version": "3.10.16"
  }
 },
 "nbformat": 4,
 "nbformat_minor": 5
}
