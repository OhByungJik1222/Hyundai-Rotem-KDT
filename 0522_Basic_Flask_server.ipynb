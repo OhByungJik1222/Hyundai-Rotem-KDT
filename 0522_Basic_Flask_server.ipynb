{
 "cells": [
  {
   "cell_type": "code",
   "execution_count": null,
   "id": "d79d76e4-4a57-4e2a-b2f6-4d96dba4a603",
   "metadata": {},
   "outputs": [],
   "source": [
    "from flask import Flask, request\n",
    "\n",
    "app = Flask(__name__)\n",
    "\n",
    "@app.route('/hello', methods=['GET'])\n",
    "def hello_get():\n",
    "    return \"hello GET world\"\n",
    "\n",
    "@app.route('/hello', methods=['POST'])\n",
    "def hello_post():\n",
    "    return \"hello POST world\"\n",
    "\n",
    "@app.route('/param', methods=['GET'])\n",
    "def param_get():\n",
    "    param = request.args.get('name')\n",
    "    return f\"hello GET {param}\"\n",
    "\n",
    "def addProc(a, b):\n",
    "    return int(a) + int(b)\n",
    "\n",
    "@app.route('/add', methods=['GET'])\n",
    "def add_get():\n",
    "    a = request.args.get('a')\n",
    "    b = request.args.get('b')\n",
    "    return f\"GET {a} + {b} =  {addProc(a, b)}\"\n",
    "\n",
    "@app.route('/add', methods=['POST'])\n",
    "def add_post():\n",
    "    a = request.form.get('a')\n",
    "    b = request.form.get('b')\n",
    "    return f\"POST {a} + {b} =  {addProc(a, b)}\"\n",
    "\n",
    "if __name__ == '__main__':\n",
    "    app.run(host='0.0.0.0', port=3000)"
   ]
  }
 ],
 "metadata": {
  "kernelspec": {
   "display_name": "Python 3 (ipykernel)",
   "language": "python",
   "name": "python3"
  },
  "language_info": {
   "codemirror_mode": {
    "name": "ipython",
    "version": 3
   },
   "file_extension": ".py",
   "mimetype": "text/x-python",
   "name": "python",
   "nbconvert_exporter": "python",
   "pygments_lexer": "ipython3",
   "version": "3.10.16"
  }
 },
 "nbformat": 4,
 "nbformat_minor": 5
}
