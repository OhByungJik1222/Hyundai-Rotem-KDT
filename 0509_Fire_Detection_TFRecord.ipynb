{
 "cells": [
  {
   "cell_type": "code",
   "execution_count": 1,
   "id": "bafc2e9f-af9b-4b23-ad34-92fd11067e07",
   "metadata": {},
   "outputs": [],
   "source": [
    "ROOT_FOLDER = '/root/jupyter_home/TF2_Object_Detection'"
   ]
  },
  {
   "cell_type": "code",
   "execution_count": null,
   "id": "dd3c83c7-8b4b-42ef-bc28-039009e24beb",
   "metadata": {},
   "outputs": [],
   "source": [
    "cd $ROOT_FOLDER/models/research"
   ]
  },
  {
   "cell_type": "code",
   "execution_count": null,
   "id": "780f0991-8e1c-46ae-b5c2-7fd606f8cdf6",
   "metadata": {},
   "outputs": [],
   "source": [
    "!cp /root/jupyter_home/YOLO_Object_Detection/Fire/fire-dataset.zip ."
   ]
  },
  {
   "cell_type": "code",
   "execution_count": null,
   "id": "6712cfef-4c51-4f6f-a28f-0e18260f5e69",
   "metadata": {},
   "outputs": [],
   "source": [
    "!unzip fire-dataset.zip"
   ]
  },
  {
   "cell_type": "code",
   "execution_count": null,
   "id": "3c7c4a82-6a3c-4d36-ba51-4766cc108a3a",
   "metadata": {},
   "outputs": [],
   "source": [
    "fire_class = [\n",
    "    \"fire\"\n",
    "]\n",
    "\n",
    "with open(\"fire_map.pbtxt\", \"w\") as f:\n",
    "    for idx, class_name in enumerate(fire_class, 1):\n",
    "        f.write(\"item {\\n\")\n",
    "        f.write(f\"  id: {idx}\\n\")\n",
    "        f.write(f\"  name: '{class_name}'\\n\")\n",
    "        f.write(\"}\\n\\n\")"
   ]
  },
  {
   "cell_type": "code",
   "execution_count": null,
   "id": "61792ffd-d030-43c7-b019-cd18d4dfca94",
   "metadata": {},
   "outputs": [],
   "source": [
    "!mkdir $ROOT_FOLDER/models/research/Firedevkit\n",
    "!mkdir $ROOT_FOLDER/models/research/Firedevkit/Fire"
   ]
  },
  {
   "cell_type": "code",
   "execution_count": null,
   "id": "4aa9b50a-9d87-4b36-a222-3b5dbb896ef8",
   "metadata": {},
   "outputs": [],
   "source": [
    "!mkdir $ROOT_FOLDER/models/research/Firedevkit/Fire/ImageSets\n",
    "!mkdir $ROOT_FOLDER/models/research/Firedevkit/Fire/ImageSets/Main\n",
    "!mkdir $ROOT_FOLDER/models/research/Firedevkit/Fire/Annotations"
   ]
  },
  {
   "cell_type": "code",
   "execution_count": null,
   "id": "7a576871-4fe1-4dd4-a4c0-4b8adda42c9f",
   "metadata": {},
   "outputs": [],
   "source": [
    "cd $ROOT_FOLDER/models/research/Firedevkit/Fire/Annotations"
   ]
  },
  {
   "cell_type": "code",
   "execution_count": null,
   "id": "a62594de-32cd-42c7-8374-70af08a5beb1",
   "metadata": {},
   "outputs": [],
   "source": [
    "!cp -r $ROOT_FOLDER/models/research/fire-dataset/train/annotations/*.xml .\n",
    "!cp -r $ROOT_FOLDER/models/research/fire-dataset/validation/annotations/*.xml ."
   ]
  },
  {
   "cell_type": "code",
   "execution_count": null,
   "id": "5435ae33-2630-4a45-aa90-b9f5cf0de01f",
   "metadata": {},
   "outputs": [],
   "source": [
    "!mkdir $ROOT_FOLDER/models/research/Firedevkit/Fire/JPEGImages"
   ]
  },
  {
   "cell_type": "code",
   "execution_count": null,
   "id": "d460a355-b659-4ab6-ad80-3f223115cfac",
   "metadata": {},
   "outputs": [],
   "source": [
    "cd $ROOT_FOLDER/models/research/Firedevkit/Fire/JPEGImages"
   ]
  },
  {
   "cell_type": "code",
   "execution_count": null,
   "id": "e3ef9117-5d43-4d3c-85ff-6ee149445bec",
   "metadata": {},
   "outputs": [],
   "source": [
    "!cp -r $ROOT_FOLDER/models/research/fire-dataset/train/images/*.jpg .\n",
    "!cp -r $ROOT_FOLDER/models/research/fire-dataset/validation/images/*.jpg ."
   ]
  },
  {
   "cell_type": "code",
   "execution_count": null,
   "id": "d43a5296-995d-45b6-a254-b08b40da713c",
   "metadata": {},
   "outputs": [],
   "source": [
    "cd $ROOT_FOLDER/models/research/fire-dataset"
   ]
  },
  {
   "cell_type": "code",
   "execution_count": null,
   "id": "d795d5f7-6ced-4829-bc4c-425a427096bb",
   "metadata": {},
   "outputs": [],
   "source": [
    "import os\n",
    "\n",
    "folder_path = './train/images'\n",
    "output_file = 'fire_train.txt'\n",
    "\n",
    "with open(output_file, 'w') as f:\n",
    "    for filename in os.listdir(folder_path):\n",
    "        name, _ = os.path.splitext(filename)\n",
    "        f.write(name + '\\n')\n",
    "\n",
    "folder_path = './validation/images'\n",
    "output_file = 'fire_val.txt'\n",
    "\n",
    "with open(output_file, 'w') as f:\n",
    "    for filename in os.listdir(folder_path):\n",
    "        name, _ = os.path.splitext(filename)\n",
    "        f.write(name + '\\n')"
   ]
  },
  {
   "cell_type": "code",
   "execution_count": null,
   "id": "4b71a769-cb7c-4767-b935-f1888fb48666",
   "metadata": {},
   "outputs": [],
   "source": [
    "cd $ROOT_FOLDER/models/research/Firedevkit/Fire/ImageSets/Main"
   ]
  },
  {
   "cell_type": "code",
   "execution_count": null,
   "id": "7485a610-6ebd-49bc-b1e2-d4b707ae809f",
   "metadata": {},
   "outputs": [],
   "source": [
    "!cp $ROOT_FOLDER/models/research/fire-dataset/fire_train.txt .\n",
    "!cp $ROOT_FOLDER/models/research/fire-dataset/fire_val.txt ."
   ]
  },
  {
   "cell_type": "code",
   "execution_count": null,
   "id": "0a9f6a56-e24c-4d48-a9e9-afd8b56a480d",
   "metadata": {},
   "outputs": [],
   "source": [
    "cd $ROOT_FOLDER/models/research"
   ]
  },
  {
   "cell_type": "code",
   "execution_count": null,
   "id": "3155c715-c21f-44fc-9e10-8963936600df",
   "metadata": {},
   "outputs": [],
   "source": [
    "!python ./create_pascal_tf_record.py \\\n",
    "    --data_dir=Firedevkit \\\n",
    "    --year=Fire \\\n",
    "    --set=fire_train \\\n",
    "    --output_path=./fire_train.tfrecord \\\n",
    "    --label_map_path=./fire_map.pbtxt"
   ]
  },
  {
   "cell_type": "code",
   "execution_count": null,
   "id": "60732511-23ab-489a-8acb-6e16b6d064dc",
   "metadata": {},
   "outputs": [],
   "source": [
    "!python ./create_pascal_tf_record.py \\\n",
    "    --data_dir=Firedevkit \\\n",
    "    --year=Fire \\\n",
    "    --set=fire_val \\\n",
    "    --output_path=./fire_val.tfrecord \\\n",
    "    --label_map_path=./fire_map.pbtxt"
   ]
  },
  {
   "cell_type": "code",
   "execution_count": null,
   "id": "ee074983-5799-4626-afbb-8346396248c5",
   "metadata": {},
   "outputs": [],
   "source": [
    "!mkdir $ROOT_FOLDER/fire_object_detection_model\n",
    "!mkdir $ROOT_FOLDER/fire_object_detection_model/data\n",
    "!mkdir $ROOT_FOLDER/fire_object_detection_model/models\n",
    "!mkdir $ROOT_FOLDER/fire_object_detection_model/models/fire_model"
   ]
  },
  {
   "cell_type": "code",
   "execution_count": null,
   "id": "de42399a-4773-4869-b225-88fe92865662",
   "metadata": {},
   "outputs": [],
   "source": [
    "!cp $ROOT_FOLDER/models/research/fire_map.pbtxt $ROOT_FOLDER/fire_object_detection_model/data\n",
    "!cp $ROOT_FOLDER/models/research/fire_train.tfrecord $ROOT_FOLDER/fire_object_detection_model/data\n",
    "!cp $ROOT_FOLDER/models/research/fire_val.tfrecord $ROOT_FOLDER/fire_object_detection_model/data"
   ]
  },
  {
   "cell_type": "code",
   "execution_count": null,
   "id": "b060177d-f132-4cb8-82c9-d23aafff31d8",
   "metadata": {},
   "outputs": [],
   "source": [
    "!cp -r $ROOT_FOLDER/pretrained_model/faster_rcnn_resnet101_v1_800x1333_coco17_gpu-8/checkpoint $ROOT_FOLDER/fire_object_detection_model"
   ]
  },
  {
   "cell_type": "code",
   "execution_count": 2,
   "id": "1d02af09-86d9-40d7-8d90-07ed91263391",
   "metadata": {},
   "outputs": [
    {
     "name": "stdout",
     "output_type": "stream",
     "text": [
      "/root/jupyter_home/TF2_Object_Detection/models/research\n"
     ]
    }
   ],
   "source": [
    "cd $ROOT_FOLDER/models/research"
   ]
  },
  {
   "cell_type": "code",
   "execution_count": null,
   "id": "cb56774b-68a4-40db-9983-979f6a0ef26f",
   "metadata": {},
   "outputs": [],
   "source": [
    "!python object_detection/model_main_tf2.py \\\n",
    "    --pipeline_config_path=$ROOT_FOLDER/fire_object_detection_model/models/fire_model/my_model.config \\\n",
    "    --model_dir=$ROOT_FOLDER/fire_object_detection_model/models/fire_model \\\n",
    "    --alsologtostderr"
   ]
  },
  {
   "cell_type": "code",
   "execution_count": null,
   "id": "5c99a7ba-2e68-4cc0-948a-145677cbd8e6",
   "metadata": {},
   "outputs": [],
   "source": [
    "# import\n",
    "\n",
    "import os\n",
    "import io\n",
    "import scipy.misc\n",
    "import numpy as np\n",
    "from six import BytesIO\n",
    "from PIL import Image, ImageDraw, ImageFont\n",
    "from IPython.display import Image as ipython_image\n",
    "\n",
    "import tensorflow as tf\n",
    "\n",
    "from object_detection.utils import label_map_util\n",
    "from object_detection.utils import config_util\n",
    "from object_detection.utils import visualization_utils as viz_utils\n",
    "from object_detection.builders import model_builder"
   ]
  },
  {
   "cell_type": "code",
   "execution_count": 5,
   "id": "68af025b-8b2d-47dc-bae6-c2e5c6b96478",
   "metadata": {},
   "outputs": [],
   "source": [
    "# Utilities\n",
    "\n",
    "def load_image_into_numpy_array(path):\n",
    "  # Load an image from file into a numpy array.\n",
    "\n",
    "  # Args:   \n",
    "  #  path: the file path to the image\n",
    "\n",
    "  # Returns:\n",
    "  #  uint8 numpy array with shape (img_height, img_width, 3)\n",
    "    img_data = tf.io.gfile.GFile(path, 'rb').read()\n",
    "    image = Image.open(BytesIO(img_data))\n",
    "    (im_width, im_height) = image.size\n",
    "    return np.array(image.getdata()).reshape((im_height, im_width, 3)).astype(np.uint8)\n",
    "\n",
    "\n",
    "def get_keypoint_tuples(eval_config):\n",
    "  # Return a tuple list of keypoint edges from the eval config.\n",
    "  \n",
    "  # Args:\n",
    "  #  eval_config: an eval config containing the keypoint edges\n",
    "  \n",
    "  # Returns:\n",
    "  #  a list of edge tuples, each in the format (start, end)\n",
    "    tuple_list = []\n",
    "    kp_list = eval_config.keypoint_edge\n",
    "    for edge in kp_list:\n",
    "        tuple_list.append((edge.start, edge.end))\n",
    "    return tuple_list"
   ]
  },
  {
   "cell_type": "code",
   "execution_count": 9,
   "id": "5aaecb79-f6bf-419b-bf9d-f4983c49e4ec",
   "metadata": {},
   "outputs": [],
   "source": [
    "# Build a detection model and load pre-trained model weights\n",
    "\n",
    "pipeline_config = ROOT_FOLDER + '/fire_object_detection_model/models/fire_model/my_model.config'\n",
    "model_dir = ROOT_FOLDER +'/fire_object_detection_model/models/fire_model'\n",
    "\n",
    "# Load pipeline config and build a detection model\n",
    "configs = config_util.get_configs_from_pipeline_file(pipeline_config)\n",
    "model_config = configs['model']\n",
    "detection_model = model_builder.build(\n",
    "      model_config=model_config, is_training=False)\n",
    "\n",
    "# # Restore checkpoint\n",
    "ckpt = tf.compat.v2.train.Checkpoint(model=detection_model)\n",
    "\n",
    "# ckpt-1의 값은 수정.\n",
    "ckpt.restore(os.path.join(model_dir, 'ckpt-1')).expect_partial()\n",
    "\n",
    "def get_model_detection_function(model):\n",
    "  # Get a tf.function for detection.\n",
    "\n",
    "    @tf.function\n",
    "    def detect_fn(image):\n",
    "    # Detect objects in image.\n",
    "        image, shapes = model.preprocess(image)\n",
    "        prediction_dict = model.predict(image, shapes)\n",
    "        detections = model.postprocess(prediction_dict, shapes)\n",
    "        \n",
    "        return detections, prediction_dict, tf.reshape(shapes, [-1])\n",
    "    \n",
    "    return detect_fn\n",
    "\n",
    "detect_fn = get_model_detection_function(detection_model)"
   ]
  },
  {
   "cell_type": "code",
   "execution_count": 10,
   "id": "c3b607d2-eb11-4438-b9d3-5916ad53d082",
   "metadata": {},
   "outputs": [],
   "source": [
    "# Load label map data (for plotting).\n",
    "\n",
    "label_map_path = configs['eval_input_config'].label_map_path\n",
    "label_map = label_map_util.load_labelmap(label_map_path)\n",
    "categories = label_map_util.convert_label_map_to_categories(\n",
    "    label_map,\n",
    "    max_num_classes=label_map_util.get_max_label_map_index(label_map),\n",
    "    use_display_name=True)\n",
    "category_index = label_map_util.create_category_index(categories)\n",
    "label_map_dict = label_map_util.get_label_map_dict(label_map, use_display_name=True)"
   ]
  },
  {
   "cell_type": "code",
   "execution_count": null,
   "id": "d5f69b8d-897e-4b89-a8db-845e74c7b133",
   "metadata": {},
   "outputs": [],
   "source": [
    "# Visualization\n",
    "\n",
    "# image_dir = 'models/research/object_detection/test_images/'\n",
    "# image_path = os.path.join(image_dir, 'image2.jpg')\n",
    "image_dir = ROOT_FOLDER  + '/test_images'\n",
    "image_path = os.path.join(image_dir, 'fire.jpg')\n",
    "image_np = load_image_into_numpy_array(image_path)\n",
    "\n",
    "# Things to try:\n",
    "# Flip horizontally\n",
    "# image_np = np.fliplr(image_np).copy()\n",
    "\n",
    "# Convert image to grayscale\n",
    "# image_np = np.tile(\n",
    "#     np.mean(image_np, 2, keepdims=True), (1, 1, 3)).astype(np.uint8)\n",
    "\n",
    "input_tensor = tf.convert_to_tensor(\n",
    "    np.expand_dims(image_np, 0), dtype=tf.float32)\n",
    "detections, predictions_dict, shapes = detect_fn(input_tensor)\n",
    "\n",
    "label_id_offset = 1\n",
    "image_np_with_detections = image_np.copy()\n",
    "\n",
    "# # Use keypoints if available in detections\n",
    "keypoints, keypoint_scores = None, None\n",
    "if 'detection_keypoints' in detections:\n",
    "    keypoints = detections['detection_keypoints'][0].numpy()\n",
    "    keypoint_scores = detections['detection_keypoint_scores'][0].numpy()\n",
    "\n",
    "# print(detections['detection_boxes'][0].numpy())\n",
    "# print(detections['detection_classes'][0].numpy())\n",
    "# print(detections['detection_scores'][0].numpy())\n",
    "\n",
    "viz_utils.visualize_boxes_and_labels_on_image_array(\n",
    "      image_np_with_detections,\n",
    "      detections['detection_boxes'][0].numpy(),\n",
    "      (detections['detection_classes'][0].numpy() + label_id_offset).astype(int),\n",
    "      detections['detection_scores'][0].numpy(),\n",
    "      category_index,\n",
    "      use_normalized_coordinates=True,\n",
    "      max_boxes_to_draw=200,\n",
    "      # min_score_thresh를 적절히 설정\n",
    "      min_score_thresh=.70,\n",
    "      agnostic_mode=False,\n",
    "      keypoints=keypoints,\n",
    "      keypoint_scores=keypoint_scores,\n",
    "      keypoint_edges=get_keypoint_tuples(configs['eval_config'])\n",
    "      )\n",
    "\n",
    "# print(type(image_np_with_detections), image_np_with_detections.shape)\n",
    "tmp = Image.fromarray(image_np_with_detections)\n",
    "tmp.save('./test_result.jpg')\n",
    "ipython_image('./test_result.jpg')\n",
    "# plt.figure(figsize=(12,16))\n",
    "# plt.imshow(image_np_with_detections)\n",
    "# plt.show()"
   ]
  }
 ],
 "metadata": {
  "kernelspec": {
   "display_name": "tf_env",
   "language": "python",
   "name": "tf_env"
  },
  "language_info": {
   "codemirror_mode": {
    "name": "ipython",
    "version": 3
   },
   "file_extension": ".py",
   "mimetype": "text/x-python",
   "name": "python",
   "nbconvert_exporter": "python",
   "pygments_lexer": "ipython3",
   "version": "3.10.16"
  }
 },
 "nbformat": 4,
 "nbformat_minor": 5
}
