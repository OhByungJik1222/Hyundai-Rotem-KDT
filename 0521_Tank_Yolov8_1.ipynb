{
 "cells": [
  {
   "cell_type": "code",
   "execution_count": 11,
   "id": "aefc6123-c854-48cb-8a17-90ba59b9afd1",
   "metadata": {},
   "outputs": [],
   "source": [
    "ROOT_FOLDER = '/root/jupyter_home/YOLOv8_Object_Detection'"
   ]
  },
  {
   "cell_type": "code",
   "execution_count": 12,
   "id": "14d403b1-2fac-4e72-84de-0713b449ae35",
   "metadata": {},
   "outputs": [
    {
     "name": "stdout",
     "output_type": "stream",
     "text": [
      "/root/jupyter_home/YOLOv8_Object_Detection\n"
     ]
    }
   ],
   "source": [
    "cd $ROOT_FOLDER"
   ]
  },
  {
   "cell_type": "code",
   "execution_count": 13,
   "id": "be7cefb3-f578-4fa3-829d-de2c34477412",
   "metadata": {},
   "outputs": [
    {
     "name": "stdout",
     "output_type": "stream",
     "text": [
      "cp: '/root/jupyter_home/YOLOv8_Object_Detection/tank_merged.zip' and './tank_merged.zip' are the same file\n"
     ]
    }
   ],
   "source": [
    "!cp $ROOT_FOLDER/tank_merged.zip ."
   ]
  },
  {
   "cell_type": "code",
   "execution_count": null,
   "id": "b50359af-4abe-4ed7-b6d9-5b1f9c1097bf",
   "metadata": {},
   "outputs": [],
   "source": [
    "!unzip tank_merged.zip"
   ]
  },
  {
   "cell_type": "code",
   "execution_count": 15,
   "id": "51326b24-81dc-4009-b47f-d401ff0d9c96",
   "metadata": {},
   "outputs": [
    {
     "name": "stdout",
     "output_type": "stream",
     "text": [
      "/root/jupyter_home/YOLOv8_Object_Detection\n"
     ]
    }
   ],
   "source": [
    "cd $ROOT_FOLDER"
   ]
  },
  {
   "cell_type": "code",
   "execution_count": null,
   "id": "b5b110ee-5f22-4173-830b-f5f1d77aab1b",
   "metadata": {},
   "outputs": [],
   "source": [
    "!yolo detect train model=yolov8s.yaml data=/root/jupyter_home/YOLOv8_Object_Detection/tank_merged/data.yaml epochs=50 imgsz=640 batch=16 device=0\n",
    "\n",
    "# YOLOv8s summary (fused): 72 layers, 11,127,906 parameters, 0 gradients, 28.4 GFLOPs\n",
    "#                  Class     Images  Instances      Box(P          R      mAP50  m\n",
    "#                    all        635       1133      0.667      0.617      0.642      0.293\n",
    "#                   car1        174        199      0.729      0.643      0.671      0.291\n",
    "#                   car2        177        213      0.655      0.616      0.675      0.329\n",
    "#                  human        127        147      0.647      0.551      0.568      0.241\n",
    "#                   rock        127        173       0.71      0.665      0.684      0.345\n",
    "#                   tank        118        124      0.706      0.677      0.719      0.308\n",
    "#                   wall        179        277      0.552      0.552      0.531      0.242\n",
    "# Speed: 0.2ms preprocess, 3.4ms inference, 0.0ms loss, 1.2ms postprocess per image"
   ]
  }
 ],
 "metadata": {
  "kernelspec": {
   "display_name": "keras_env",
   "language": "python",
   "name": "keras_env"
  },
  "language_info": {
   "codemirror_mode": {
    "name": "ipython",
    "version": 3
   },
   "file_extension": ".py",
   "mimetype": "text/x-python",
   "name": "python",
   "nbconvert_exporter": "python",
   "pygments_lexer": "ipython3",
   "version": "3.10.16"
  }
 },
 "nbformat": 4,
 "nbformat_minor": 5
}
