{
 "cells": [
  {
   "cell_type": "code",
   "execution_count": 1,
   "id": "d43598f9-b6a4-4b66-bef9-509970b85d4b",
   "metadata": {},
   "outputs": [],
   "source": [
    "ROOT_FOLDER = '/root/jupyter_home/YOLOv8_Object_Detection'"
   ]
  },
  {
   "cell_type": "code",
   "execution_count": 2,
   "id": "25465778-8d51-49ba-b301-a8c0e158506e",
   "metadata": {},
   "outputs": [
    {
     "name": "stdout",
     "output_type": "stream",
     "text": [
      "/root/jupyter_home/YOLOv8_Object_Detection\n"
     ]
    }
   ],
   "source": [
    "cd $ROOT_FOLDER"
   ]
  },
  {
   "cell_type": "code",
   "execution_count": 3,
   "id": "4c006eec-f801-4c94-bbd8-5ab9b2a478b1",
   "metadata": {},
   "outputs": [
    {
     "name": "stdout",
     "output_type": "stream",
     "text": [
      "/root/jupyter_home/YOLOv8_Object_Detection/datasets\n"
     ]
    }
   ],
   "source": [
    "cd datasets"
   ]
  },
  {
   "cell_type": "code",
   "execution_count": null,
   "id": "2b07889f-307a-45db-b18b-78656723819e",
   "metadata": {},
   "outputs": [],
   "source": [
    "!unzip tank_images_2_5.zip"
   ]
  },
  {
   "cell_type": "code",
   "execution_count": null,
   "id": "84bd4df1-a312-43ae-bad4-01c4fb1e9e62",
   "metadata": {},
   "outputs": [],
   "source": [
    "# Map2 & Map5 without Augmentation (YOLOv8s, 50 Epochs, without EarlyStopping) \n",
    "from ultralytics import YOLO\n",
    "model = YOLO('yolov8s.pt')\n",
    "\n",
    "# 재학습\n",
    "results = model.train(\n",
    "    data='./tank_images_2_5/data.yaml',\n",
    "    epochs=50,\n",
    "    imgsz=640,\n",
    "    batch=16,\n",
    "    device=0,\n",
    "    workers=4,\n",
    "    name='yolv8s_tankv2'\n",
    ")\n",
    "# Class     Images  Instances      Box(P          R      mAP50  mAP50-95): 100%|██████████| 3/3 [\n",
    "#                    all         80         93      0.989      0.999      0.995       0.84\n",
    "#                   car1         20         24          1      0.997      0.995       0.83\n",
    "#                   car2         20         27       0.99          1      0.995      0.855\n",
    "#                  human         20         20      0.986          1      0.995      0.782\n",
    "#                   tank         20         22       0.98          1      0.995      0.891"
   ]
  },
  {
   "cell_type": "code",
   "execution_count": null,
   "id": "ccee4b06-f655-4480-a557-ed90d82f84cb",
   "metadata": {},
   "outputs": [],
   "source": [
    "# Map2 & Map5 with Augmentation (YOLOv8n, 300 Epochs, with EarlyStopping)\n",
    "from ultralytics import YOLO\n",
    "model = YOLO('yolov8n.pt')\n",
    "\n",
    "# 재학습\n",
    "results = model.train(\n",
    "    data='./tank_images_2_5/data.yaml',\n",
    "    epochs=300,\n",
    "    patience=20,\n",
    "    imgsz=960,          # 해상도 증가로 작은 객체 표현력 ↑\n",
    "    mosaic=True,        # 작은 객체 위치 다양화\n",
    "    scale=0.5,          # 이미지/객체 크기 축소 (0.5~1.0 범위)\n",
    "    translate=0.1,      # 위치 변경 (중앙 외곽으로 이동 유도)\n",
    "    shear=2.0,          # 기울이기\n",
    "    degrees=10,         # 회전\n",
    "    perspective=0.001,  # 원근 왜곡\n",
    "    flipud=0.0,         # 위아래 반전 비활성화 (탱크에선 비현실적일 수 있음)\n",
    "    fliplr=0.5,         # 좌우 반전 활성화\n",
    "    batch=16,\n",
    "    device=0,\n",
    "    workers=4,\n",
    "    name='yolv8n_tankv2_augmentated'\n",
    ")\n",
    "# Class     Images  Instances      Box(P          R      mAP50  mAP50-95): 100%|██████████| 3/3 [\n",
    "#    all         80         93      0.955      0.982      0.995      0.753\n",
    "#   car1         20         24      0.947          1      0.995      0.741\n",
    "#   car2         20         27          1      0.959      0.994      0.792\n",
    "#  human         20         20          1       0.97      0.995      0.694\n",
    "#   tank         20         22      0.872          1      0.995      0.784"
   ]
  },
  {
   "cell_type": "code",
   "execution_count": null,
   "id": "8860274f-87f3-4b2d-8bb8-7acdf7a3deec",
   "metadata": {},
   "outputs": [],
   "source": [
    "# Map2 & Map5 with Augmentation (YOLOv8s, 300 Epochs, with EarlyStopping)\n",
    "from ultralytics import YOLO\n",
    "model = YOLO('yolov8s.pt')\n",
    "\n",
    "# 재학습\n",
    "results = model.train(\n",
    "    data='./tank_images_2_5/data.yaml',\n",
    "    epochs=300,\n",
    "    patience=20,\n",
    "    imgsz=960,          # 해상도 증가로 작은 객체 표현력 ↑\n",
    "    mosaic=True,        # 작은 객체 위치 다양화\n",
    "    scale=0.5,          # 이미지/객체 크기 축소 (0.5~1.0 범위)\n",
    "    translate=0.1,      # 위치 변경 (중앙 외곽으로 이동 유도)\n",
    "    shear=2.0,          # 기울이기\n",
    "    degrees=10,         # 회전\n",
    "    perspective=0.001,  # 원근 왜곡\n",
    "    flipud=0.0,         # 위아래 반전 비활성화 (탱크에선 비현실적일 수 있음)\n",
    "    fliplr=0.5,         # 좌우 반전 활성화\n",
    "    batch=16,\n",
    "    device=0,\n",
    "    workers=4,\n",
    "    name='yolv8s_tankv2_augmentated'\n",
    ")\n",
    " # Class     Images  Instances      Box(P          R      mAP50  mAP50-95): 100%|██████████| 3/3 [\n",
    " #   all         80         93      0.988      0.989      0.995      0.791\n",
    " #  car1         20         24          1      0.969      0.995      0.763\n",
    " #  car2         20         27          1      0.987      0.995      0.836\n",
    " # human         20         20       0.99          1      0.995      0.716\n",
    " #  tank         20         22      0.964          1      0.995       0.85"
   ]
  },
  {
   "cell_type": "code",
   "execution_count": null,
   "id": "988710d5-ae18-4656-96c1-a01781b7b1eb",
   "metadata": {},
   "outputs": [],
   "source": [
    "# Map2 & Map5 with Augmentation (YOLOv8m, 300 Epochs, with EarlyStopping)\n",
    "from ultralytics import YOLO\n",
    "model = YOLO('yolov8m.pt')\n",
    "\n",
    "# 재학습\n",
    "results = model.train(\n",
    "    data='./tank_images_2_5/data.yaml',\n",
    "    epochs=300,\n",
    "    patience=20,\n",
    "    imgsz=640,          # 해상도 증가로 작은 객체 표현력 ↑\n",
    "    mosaic=True,        # 작은 객체 위치 다양화\n",
    "    scale=0.5,          # 이미지/객체 크기 축소 (0.5~1.0 범위)\n",
    "    translate=0.1,      # 위치 변경 (중앙 외곽으로 이동 유도)\n",
    "    shear=2.0,          # 기울이기\n",
    "    degrees=10,         # 회전\n",
    "    name='yolv8m_tankv2_augmentated'\n",
    ")\n",
    "# Class     Images  Instances      Box(P          R      mAP50  mAP50-95): 100%|██████████| 3/3 [\n",
    "#   all         80         93      0.992          1      0.995      0.818\n",
    "#  car1         20         24      0.995          1      0.995      0.791\n",
    "#  car2         20         27          1      0.999      0.995      0.844\n",
    "# human         20         20          1          1      0.995      0.786\n",
    "#  tank         20         22      0.974          1      0.995      0.851"
   ]
  },
  {
   "cell_type": "code",
   "execution_count": null,
   "id": "ee256ba2-8956-4267-a881-743908341cbc",
   "metadata": {},
   "outputs": [],
   "source": [
    "!unzip tank_images_2_5_bg.zip"
   ]
  },
  {
   "cell_type": "code",
   "execution_count": 20,
   "id": "147512f2-9ae7-4188-ae1f-51a944067a04",
   "metadata": {},
   "outputs": [
    {
     "name": "stdout",
     "output_type": "stream",
     "text": [
      "'bg'로 시작하는 (train) 이미지 수: 80\n",
      "빈 라벨 (train) 파일 생성 완료: 80개\n"
     ]
    }
   ],
   "source": [
    "import os\n",
    "\n",
    "# 이미지 및 라벨 디렉터리 설정\n",
    "train_image_dir = \"./tank_images_2_5_bg/images/train\"  # 이미지들이 있는 폴더 경로\n",
    "train_label_dir = \"./tank_images_2_5_bg/labels/train\"  # YOLO 라벨 텍스트 파일 경로\n",
    "\n",
    "# 허용되는 이미지 확장자\n",
    "img_exts = [\".jpg\", \".jpeg\", \".png\"]\n",
    "\n",
    "# bg로 시작하는 이미지 파일만 타겟\n",
    "image_files = [\n",
    "    f for f in os.listdir(train_image_dir)\n",
    "    if f.lower().startswith(\"bg\") and os.path.splitext(f)[1].lower() in img_exts\n",
    "]\n",
    "\n",
    "print(f\"'bg'로 시작하는 (train) 이미지 수: {len(image_files)}\")\n",
    "\n",
    "created = 0\n",
    "for img_file in image_files:\n",
    "    base_name = os.path.splitext(img_file)[0]\n",
    "    label_path = os.path.join(train_label_dir, base_name + \".txt\")\n",
    "\n",
    "    if not os.path.exists(label_path):\n",
    "        # 빈 라벨 파일 생성\n",
    "        with open(label_path, \"w\") as f:\n",
    "            pass\n",
    "        created += 1\n",
    "\n",
    "print(f\"빈 라벨 (train) 파일 생성 완료: {created}개\")"
   ]
  },
  {
   "cell_type": "code",
   "execution_count": 21,
   "id": "1708420f-e0c8-4312-b4b7-97c168e66e09",
   "metadata": {},
   "outputs": [
    {
     "name": "stdout",
     "output_type": "stream",
     "text": [
      "'bg'로 시작하는 (val) 이미지 수: 20\n",
      "빈 라벨 (val) 파일 생성 완료: 20개\n"
     ]
    }
   ],
   "source": [
    "# 이미지 및 라벨 디렉터리 설정\n",
    "val_image_dir = \"./tank_images_2_5_bg/images/val\"  # 이미지들이 있는 폴더 경로\n",
    "val_label_dir = \"./tank_images_2_5_bg/labels/val\"  # YOLO 라벨 텍스트 파일 경로\n",
    "\n",
    "# 허용되는 이미지 확장자\n",
    "img_exts = [\".jpg\", \".jpeg\", \".png\"]\n",
    "\n",
    "# bg로 시작하는 이미지 파일만 타겟\n",
    "image_files = [\n",
    "    f for f in os.listdir(val_image_dir)\n",
    "    if f.lower().startswith(\"bg\") and os.path.splitext(f)[1].lower() in img_exts\n",
    "]\n",
    "\n",
    "print(f\"'bg'로 시작하는 (val) 이미지 수: {len(image_files)}\")\n",
    "\n",
    "created = 0\n",
    "for img_file in image_files:\n",
    "    base_name = os.path.splitext(img_file)[0]\n",
    "    label_path = os.path.join(val_label_dir, base_name + \".txt\")\n",
    "\n",
    "    if not os.path.exists(label_path):\n",
    "        # 빈 라벨 파일 생성\n",
    "        with open(label_path, \"w\") as f:\n",
    "            pass\n",
    "        created += 1\n",
    "\n",
    "print(f\"빈 라벨 (val) 파일 생성 완료: {created}개\")"
   ]
  },
  {
   "cell_type": "code",
   "execution_count": null,
   "id": "39d36b23-9897-430b-9b4d-542b0e24cc9d",
   "metadata": {},
   "outputs": [
    {
     "name": "stdout",
     "output_type": "stream",
     "text": [
      "New https://pypi.org/project/ultralytics/8.3.145 available 😃 Update with 'pip install -U ultralytics'\n",
      "Ultralytics 8.3.131 🚀 Python-3.10.16 torch-2.5.1 CUDA:0 (NVIDIA GeForce RTX 3070 Ti Laptop GPU, 8192MiB)\n",
      "\u001b[34m\u001b[1mengine/trainer: \u001b[0magnostic_nms=False, amp=True, augment=False, auto_augment=randaugment, batch=16, bgr=0.0, box=7.5, cache=False, cfg=None, classes=None, close_mosaic=10, cls=0.5, conf=None, copy_paste=0.0, copy_paste_mode=flip, cos_lr=False, cutmix=0.0, data=./tank_images_2_5_bg/data.yaml, degrees=10, deterministic=True, device=None, dfl=1.5, dnn=False, dropout=0.0, dynamic=False, embed=None, epochs=300, erasing=0.4, exist_ok=False, fliplr=0.5, flipud=0.0, format=torchscript, fraction=1.0, freeze=None, half=False, hsv_h=0.015, hsv_s=0.7, hsv_v=0.4, imgsz=960, int8=False, iou=0.7, keras=False, kobj=1.0, line_width=None, lr0=0.01, lrf=0.01, mask_ratio=4, max_det=300, mixup=0.0, mode=train, model=yolov8m.pt, momentum=0.937, mosaic=True, multi_scale=False, name=yolv8m_tankv3_augmentated, nbs=64, nms=False, opset=None, optimize=False, optimizer=auto, overlap_mask=True, patience=20, perspective=0.0, plots=True, pose=12.0, pretrained=True, profile=False, project=None, rect=False, resume=False, retina_masks=False, save=True, save_conf=False, save_crop=False, save_dir=runs/detect/yolv8m_tankv3_augmentated, save_frames=False, save_json=False, save_period=-1, save_txt=False, scale=0.7, seed=0, shear=2.0, show=False, show_boxes=True, show_conf=True, show_labels=True, simplify=True, single_cls=False, source=None, split=val, stream_buffer=False, task=detect, time=None, tracker=botsort.yaml, translate=0.1, val=True, verbose=True, vid_stride=1, visualize=False, warmup_bias_lr=0.1, warmup_epochs=3.0, warmup_momentum=0.8, weight_decay=0.0005, workers=8, workspace=None\n",
      "Overriding model.yaml nc=80 with nc=4\n",
      "\n",
      "                   from  n    params  module                                       arguments                     \n",
      "  0                  -1  1      1392  ultralytics.nn.modules.conv.Conv             [3, 48, 3, 2]                 \n",
      "  1                  -1  1     41664  ultralytics.nn.modules.conv.Conv             [48, 96, 3, 2]                \n",
      "  2                  -1  2    111360  ultralytics.nn.modules.block.C2f             [96, 96, 2, True]             \n",
      "  3                  -1  1    166272  ultralytics.nn.modules.conv.Conv             [96, 192, 3, 2]               \n",
      "  4                  -1  4    813312  ultralytics.nn.modules.block.C2f             [192, 192, 4, True]           \n",
      "  5                  -1  1    664320  ultralytics.nn.modules.conv.Conv             [192, 384, 3, 2]              \n",
      "  6                  -1  4   3248640  ultralytics.nn.modules.block.C2f             [384, 384, 4, True]           \n",
      "  7                  -1  1   1991808  ultralytics.nn.modules.conv.Conv             [384, 576, 3, 2]              \n",
      "  8                  -1  2   3985920  ultralytics.nn.modules.block.C2f             [576, 576, 2, True]           \n",
      "  9                  -1  1    831168  ultralytics.nn.modules.block.SPPF            [576, 576, 5]                 \n",
      " 10                  -1  1         0  torch.nn.modules.upsampling.Upsample         [None, 2, 'nearest']          \n",
      " 11             [-1, 6]  1         0  ultralytics.nn.modules.conv.Concat           [1]                           \n",
      " 12                  -1  2   1993728  ultralytics.nn.modules.block.C2f             [960, 384, 2]                 \n",
      " 13                  -1  1         0  torch.nn.modules.upsampling.Upsample         [None, 2, 'nearest']          \n",
      " 14             [-1, 4]  1         0  ultralytics.nn.modules.conv.Concat           [1]                           \n",
      " 15                  -1  2    517632  ultralytics.nn.modules.block.C2f             [576, 192, 2]                 \n",
      " 16                  -1  1    332160  ultralytics.nn.modules.conv.Conv             [192, 192, 3, 2]              \n",
      " 17            [-1, 12]  1         0  ultralytics.nn.modules.conv.Concat           [1]                           \n",
      " 18                  -1  2   1846272  ultralytics.nn.modules.block.C2f             [576, 384, 2]                 \n",
      " 19                  -1  1   1327872  ultralytics.nn.modules.conv.Conv             [384, 384, 3, 2]              \n",
      " 20             [-1, 9]  1         0  ultralytics.nn.modules.conv.Concat           [1]                           \n",
      " 21                  -1  2   4207104  ultralytics.nn.modules.block.C2f             [960, 576, 2]                 \n",
      " 22        [15, 18, 21]  1   3778012  ultralytics.nn.modules.head.Detect           [4, [192, 384, 576]]          \n",
      "Model summary: 169 layers, 25,858,636 parameters, 25,858,620 gradients, 79.1 GFLOPs\n",
      "\n",
      "Transferred 469/475 items from pretrained weights\n",
      "Freezing layer 'model.22.dfl.conv.weight'\n",
      "\u001b[34m\u001b[1mAMP: \u001b[0mrunning Automatic Mixed Precision (AMP) checks...\n",
      "\u001b[34m\u001b[1mAMP: \u001b[0mchecks passed ✅\n",
      "\u001b[34m\u001b[1mtrain: \u001b[0mFast image access ✅ (ping: 0.0±0.0 ms, read: 4571.6±540.2 MB/s, size: 323.7 KB)\n"
     ]
    },
    {
     "name": "stderr",
     "output_type": "stream",
     "text": [
      "\u001b[34m\u001b[1mtrain: \u001b[0mScanning /root/jupyter_home/YOLOv8_Object_Detection/datasets/tank_images_2_5_bg/labels/train.cache... 400\u001b[0m\n"
     ]
    },
    {
     "name": "stdout",
     "output_type": "stream",
     "text": [
      "\u001b[34m\u001b[1mval: \u001b[0mFast image access ✅ (ping: 0.0±0.0 ms, read: 3186.3±2090.3 MB/s, size: 394.2 KB)\n"
     ]
    },
    {
     "name": "stderr",
     "output_type": "stream",
     "text": [
      "\u001b[34m\u001b[1mval: \u001b[0mScanning /root/jupyter_home/YOLOv8_Object_Detection/datasets/tank_images_2_5_bg/labels/val.cache... 100 ima\u001b[0m\n"
     ]
    },
    {
     "name": "stdout",
     "output_type": "stream",
     "text": [
      "Plotting labels to runs/detect/yolv8m_tankv3_augmentated/labels.jpg... \n",
      "\u001b[34m\u001b[1moptimizer:\u001b[0m 'optimizer=auto' found, ignoring 'lr0=0.01' and 'momentum=0.937' and determining best 'optimizer', 'lr0' and 'momentum' automatically... \n",
      "\u001b[34m\u001b[1moptimizer:\u001b[0m AdamW(lr=0.00125, momentum=0.9) with parameter groups 77 weight(decay=0.0), 84 weight(decay=0.0005), 83 bias(decay=0.0)\n",
      "Image sizes 960 train, 960 val\n",
      "Using 8 dataloader workers\n",
      "Logging results to \u001b[1mruns/detect/yolv8m_tankv3_augmentated\u001b[0m\n",
      "Starting training for 300 epochs...\n",
      "\n",
      "      Epoch    GPU_mem   box_loss   cls_loss   dfl_loss  Instances       Size\n"
     ]
    },
    {
     "name": "stderr",
     "output_type": "stream",
     "text": [
      "      1/300      13.2G      1.372      5.575      1.345         28        960: 100%|██████████| 25/25 [10:29<00:\n",
      "                 Class     Images  Instances      Box(P          R      mAP50  mAP50-95): 100%|██████████| 4/4 ["
     ]
    },
    {
     "name": "stdout",
     "output_type": "stream",
     "text": [
      "                   all        100         93      0.469      0.873      0.519      0.385\n"
     ]
    },
    {
     "name": "stderr",
     "output_type": "stream",
     "text": [
      "\n"
     ]
    },
    {
     "name": "stdout",
     "output_type": "stream",
     "text": [
      "\n",
      "      Epoch    GPU_mem   box_loss   cls_loss   dfl_loss  Instances       Size\n"
     ]
    },
    {
     "name": "stderr",
     "output_type": "stream",
     "text": [
      "      2/300      13.4G      1.114      1.834      1.198         38        960: 100%|██████████| 25/25 [09:28<00:\n",
      "                 Class     Images  Instances      Box(P          R      mAP50  mAP50-95): 100%|██████████| 4/4 ["
     ]
    },
    {
     "name": "stdout",
     "output_type": "stream",
     "text": [
      "                   all        100         93      0.666      0.562      0.612      0.412\n"
     ]
    },
    {
     "name": "stderr",
     "output_type": "stream",
     "text": [
      "\n"
     ]
    },
    {
     "name": "stdout",
     "output_type": "stream",
     "text": [
      "\n",
      "      Epoch    GPU_mem   box_loss   cls_loss   dfl_loss  Instances       Size\n"
     ]
    },
    {
     "name": "stderr",
     "output_type": "stream",
     "text": [
      "      3/300      13.4G      1.144      1.278      1.228         26        960: 100%|██████████| 25/25 [10:20<00:\n",
      "                 Class     Images  Instances      Box(P          R      mAP50  mAP50-95): 100%|██████████| 4/4 ["
     ]
    },
    {
     "name": "stdout",
     "output_type": "stream",
     "text": [
      "                   all        100         93      0.471       0.45      0.364      0.212\n"
     ]
    },
    {
     "name": "stderr",
     "output_type": "stream",
     "text": [
      "\n"
     ]
    },
    {
     "name": "stdout",
     "output_type": "stream",
     "text": [
      "\n",
      "      Epoch    GPU_mem   box_loss   cls_loss   dfl_loss  Instances       Size\n"
     ]
    },
    {
     "name": "stderr",
     "output_type": "stream",
     "text": [
      "      4/300      13.4G      1.273       1.63      1.299         31        960:  12%|█▏        | 3/25 [01:10<08:2"
     ]
    }
   ],
   "source": [
    "# Map2 & Map5 with Augmentation (YOLOv8m, 300 Epochs, with EarlyStopping)\n",
    "# w/ Background Images\n",
    "from ultralytics import YOLO\n",
    "model = YOLO('yolov8m.pt')\n",
    "\n",
    "# 재학습\n",
    "results = model.train(\n",
    "    data='./tank_images_2_5_bg/data.yaml',\n",
    "    epochs=300,\n",
    "    patience=20,\n",
    "    imgsz=960,          # 해상도 증가로 작은 객체 표현력 ↑\n",
    "    mosaic=True,        # 작은 객체 위치 다양화\n",
    "    scale=0.7,          # 이미지/객체 크기 축소 (0.5~1.0 범위)\n",
    "    translate=0.1,      # 위치 변경 (중앙 외곽으로 이동 유도)\n",
    "    shear=2.0,          # 기울이기\n",
    "    degrees=10,         # 회전\n",
    "    name='yolv8m_tankv3_augmentated'\n",
    ")"
   ]
  }
 ],
 "metadata": {
  "kernelspec": {
   "display_name": "keras_env",
   "language": "python",
   "name": "keras_env"
  },
  "language_info": {
   "codemirror_mode": {
    "name": "ipython",
    "version": 3
   },
   "file_extension": ".py",
   "mimetype": "text/x-python",
   "name": "python",
   "nbconvert_exporter": "python",
   "pygments_lexer": "ipython3",
   "version": "3.10.16"
  }
 },
 "nbformat": 4,
 "nbformat_minor": 5
}
