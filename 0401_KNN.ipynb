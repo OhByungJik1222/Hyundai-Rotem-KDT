{
 "cells": [
  {
   "cell_type": "code",
   "execution_count": 5,
   "metadata": {
    "executionInfo": {
     "elapsed": 2,
     "status": "ok",
     "timestamp": 1744013887308,
     "user": {
      "displayName": "오병직",
      "userId": "04063980640589832756"
     },
     "user_tz": -540
    },
    "id": "oMFc3Z1V-Zzs"
   },
   "outputs": [],
   "source": [
    "# 필요한 module import\n",
    "import numpy as np\n",
    "import pandas as pd\n",
    "import matplotlib.pyplot as plt\n",
    "\n",
    "# 데이터 전처리\n",
    "from scipy import stats\n",
    "from sklearn.preprocessing import MinMaxScaler\n",
    "\n",
    "# 사용하는 모델\n",
    "from sklearn import linear_model\n",
    "from sklearn.neighbors import KNeighborsRegressor"
   ]
  },
  {
   "cell_type": "code",
   "execution_count": 6,
   "metadata": {
    "executionInfo": {
     "elapsed": 1,
     "status": "ok",
     "timestamp": 1744013887994,
     "user": {
      "displayName": "오병직",
      "userId": "04063980640589832756"
     },
     "user_tz": -540
    },
    "id": "VRrKm1k-AQ_h"
   },
   "outputs": [],
   "source": [
    "# Ozone 데이터를 이용해서\n",
    "# 결측치 삭제, 이상치 삭제로 데이터를 정제하고\n",
    "# 정규화 처리 당연히 진행\n",
    "# LinearRegression Model을 구현해서\n",
    "# 태양광 310, 바람 15, 온도 80일 겨우 오존량을 예측\n",
    "# KNN을 이용해서 똑같은 데이터에 대한 예측 진행!"
   ]
  },
  {
   "cell_type": "code",
   "execution_count": 7,
   "metadata": {
    "colab": {
     "base_uri": "https://localhost:8080/",
     "height": 206
    },
    "executionInfo": {
     "elapsed": 88,
     "status": "ok",
     "timestamp": 1744013889442,
     "user": {
      "displayName": "오병직",
      "userId": "04063980640589832756"
     },
     "user_tz": -540
    },
    "id": "1_yjzNXDA6sJ",
    "outputId": "03b4e7f7-cafd-41cf-b707-6b94992412c5"
   },
   "outputs": [
    {
     "data": {
      "application/vnd.google.colaboratory.intrinsic+json": {
       "summary": "{\n  \"name\": \"display(ozone\",\n  \"rows\": 5,\n  \"fields\": [\n    {\n      \"column\": \"Ozone\",\n      \"properties\": {\n        \"dtype\": \"number\",\n        \"std\": 13.937359864766353,\n        \"min\": 12.0,\n        \"max\": 41.0,\n        \"num_unique_values\": 4,\n        \"samples\": [\n          36.0,\n          18.0,\n          41.0\n        ],\n        \"semantic_type\": \"\",\n        \"description\": \"\"\n      }\n    },\n    {\n      \"column\": \"Solar.R\",\n      \"properties\": {\n        \"dtype\": \"number\",\n        \"std\": 85.57452892070164,\n        \"min\": 118.0,\n        \"max\": 313.0,\n        \"num_unique_values\": 4,\n        \"samples\": [\n          118.0,\n          313.0,\n          190.0\n        ],\n        \"semantic_type\": \"\",\n        \"description\": \"\"\n      }\n    },\n    {\n      \"column\": \"Wind\",\n      \"properties\": {\n        \"dtype\": \"number\",\n        \"std\": 2.973718211263468,\n        \"min\": 7.4,\n        \"max\": 14.3,\n        \"num_unique_values\": 5,\n        \"samples\": [\n          8.0,\n          14.3,\n          12.6\n        ],\n        \"semantic_type\": \"\",\n        \"description\": \"\"\n      }\n    },\n    {\n      \"column\": \"Temp\",\n      \"properties\": {\n        \"dtype\": \"number\",\n        \"std\": 7,\n        \"min\": 56,\n        \"max\": 74,\n        \"num_unique_values\": 5,\n        \"samples\": [\n          72,\n          56,\n          74\n        ],\n        \"semantic_type\": \"\",\n        \"description\": \"\"\n      }\n    },\n    {\n      \"column\": \"Month\",\n      \"properties\": {\n        \"dtype\": \"number\",\n        \"std\": 0,\n        \"min\": 5,\n        \"max\": 5,\n        \"num_unique_values\": 1,\n        \"samples\": [\n          5\n        ],\n        \"semantic_type\": \"\",\n        \"description\": \"\"\n      }\n    },\n    {\n      \"column\": \"Day\",\n      \"properties\": {\n        \"dtype\": \"number\",\n        \"std\": 1,\n        \"min\": 1,\n        \"max\": 5,\n        \"num_unique_values\": 5,\n        \"samples\": [\n          2\n        ],\n        \"semantic_type\": \"\",\n        \"description\": \"\"\n      }\n    }\n  ]\n}",
       "type": "dataframe"
      },
      "text/html": [
       "\n",
       "  <div id=\"df-2d79828e-9d84-4e39-9655-c99f1fcfa463\" class=\"colab-df-container\">\n",
       "    <div>\n",
       "<style scoped>\n",
       "    .dataframe tbody tr th:only-of-type {\n",
       "        vertical-align: middle;\n",
       "    }\n",
       "\n",
       "    .dataframe tbody tr th {\n",
       "        vertical-align: top;\n",
       "    }\n",
       "\n",
       "    .dataframe thead th {\n",
       "        text-align: right;\n",
       "    }\n",
       "</style>\n",
       "<table border=\"1\" class=\"dataframe\">\n",
       "  <thead>\n",
       "    <tr style=\"text-align: right;\">\n",
       "      <th></th>\n",
       "      <th>Ozone</th>\n",
       "      <th>Solar.R</th>\n",
       "      <th>Wind</th>\n",
       "      <th>Temp</th>\n",
       "      <th>Month</th>\n",
       "      <th>Day</th>\n",
       "    </tr>\n",
       "  </thead>\n",
       "  <tbody>\n",
       "    <tr>\n",
       "      <th>0</th>\n",
       "      <td>41.0</td>\n",
       "      <td>190.0</td>\n",
       "      <td>7.4</td>\n",
       "      <td>67</td>\n",
       "      <td>5</td>\n",
       "      <td>1</td>\n",
       "    </tr>\n",
       "    <tr>\n",
       "      <th>1</th>\n",
       "      <td>36.0</td>\n",
       "      <td>118.0</td>\n",
       "      <td>8.0</td>\n",
       "      <td>72</td>\n",
       "      <td>5</td>\n",
       "      <td>2</td>\n",
       "    </tr>\n",
       "    <tr>\n",
       "      <th>2</th>\n",
       "      <td>12.0</td>\n",
       "      <td>149.0</td>\n",
       "      <td>12.6</td>\n",
       "      <td>74</td>\n",
       "      <td>5</td>\n",
       "      <td>3</td>\n",
       "    </tr>\n",
       "    <tr>\n",
       "      <th>3</th>\n",
       "      <td>18.0</td>\n",
       "      <td>313.0</td>\n",
       "      <td>11.5</td>\n",
       "      <td>62</td>\n",
       "      <td>5</td>\n",
       "      <td>4</td>\n",
       "    </tr>\n",
       "    <tr>\n",
       "      <th>4</th>\n",
       "      <td>NaN</td>\n",
       "      <td>NaN</td>\n",
       "      <td>14.3</td>\n",
       "      <td>56</td>\n",
       "      <td>5</td>\n",
       "      <td>5</td>\n",
       "    </tr>\n",
       "  </tbody>\n",
       "</table>\n",
       "</div>\n",
       "    <div class=\"colab-df-buttons\">\n",
       "\n",
       "  <div class=\"colab-df-container\">\n",
       "    <button class=\"colab-df-convert\" onclick=\"convertToInteractive('df-2d79828e-9d84-4e39-9655-c99f1fcfa463')\"\n",
       "            title=\"Convert this dataframe to an interactive table.\"\n",
       "            style=\"display:none;\">\n",
       "\n",
       "  <svg xmlns=\"http://www.w3.org/2000/svg\" height=\"24px\" viewBox=\"0 -960 960 960\">\n",
       "    <path d=\"M120-120v-720h720v720H120Zm60-500h600v-160H180v160Zm220 220h160v-160H400v160Zm0 220h160v-160H400v160ZM180-400h160v-160H180v160Zm440 0h160v-160H620v160ZM180-180h160v-160H180v160Zm440 0h160v-160H620v160Z\"/>\n",
       "  </svg>\n",
       "    </button>\n",
       "\n",
       "  <style>\n",
       "    .colab-df-container {\n",
       "      display:flex;\n",
       "      gap: 12px;\n",
       "    }\n",
       "\n",
       "    .colab-df-convert {\n",
       "      background-color: #E8F0FE;\n",
       "      border: none;\n",
       "      border-radius: 50%;\n",
       "      cursor: pointer;\n",
       "      display: none;\n",
       "      fill: #1967D2;\n",
       "      height: 32px;\n",
       "      padding: 0 0 0 0;\n",
       "      width: 32px;\n",
       "    }\n",
       "\n",
       "    .colab-df-convert:hover {\n",
       "      background-color: #E2EBFA;\n",
       "      box-shadow: 0px 1px 2px rgba(60, 64, 67, 0.3), 0px 1px 3px 1px rgba(60, 64, 67, 0.15);\n",
       "      fill: #174EA6;\n",
       "    }\n",
       "\n",
       "    .colab-df-buttons div {\n",
       "      margin-bottom: 4px;\n",
       "    }\n",
       "\n",
       "    [theme=dark] .colab-df-convert {\n",
       "      background-color: #3B4455;\n",
       "      fill: #D2E3FC;\n",
       "    }\n",
       "\n",
       "    [theme=dark] .colab-df-convert:hover {\n",
       "      background-color: #434B5C;\n",
       "      box-shadow: 0px 1px 3px 1px rgba(0, 0, 0, 0.15);\n",
       "      filter: drop-shadow(0px 1px 2px rgba(0, 0, 0, 0.3));\n",
       "      fill: #FFFFFF;\n",
       "    }\n",
       "  </style>\n",
       "\n",
       "    <script>\n",
       "      const buttonEl =\n",
       "        document.querySelector('#df-2d79828e-9d84-4e39-9655-c99f1fcfa463 button.colab-df-convert');\n",
       "      buttonEl.style.display =\n",
       "        google.colab.kernel.accessAllowed ? 'block' : 'none';\n",
       "\n",
       "      async function convertToInteractive(key) {\n",
       "        const element = document.querySelector('#df-2d79828e-9d84-4e39-9655-c99f1fcfa463');\n",
       "        const dataTable =\n",
       "          await google.colab.kernel.invokeFunction('convertToInteractive',\n",
       "                                                    [key], {});\n",
       "        if (!dataTable) return;\n",
       "\n",
       "        const docLinkHtml = 'Like what you see? Visit the ' +\n",
       "          '<a target=\"_blank\" href=https://colab.research.google.com/notebooks/data_table.ipynb>data table notebook</a>'\n",
       "          + ' to learn more about interactive tables.';\n",
       "        element.innerHTML = '';\n",
       "        dataTable['output_type'] = 'display_data';\n",
       "        await google.colab.output.renderOutput(dataTable, element);\n",
       "        const docLink = document.createElement('div');\n",
       "        docLink.innerHTML = docLinkHtml;\n",
       "        element.appendChild(docLink);\n",
       "      }\n",
       "    </script>\n",
       "  </div>\n",
       "\n",
       "\n",
       "<div id=\"df-329c35e3-fdfd-4527-b693-fdd16375c9b2\">\n",
       "  <button class=\"colab-df-quickchart\" onclick=\"quickchart('df-329c35e3-fdfd-4527-b693-fdd16375c9b2')\"\n",
       "            title=\"Suggest charts\"\n",
       "            style=\"display:none;\">\n",
       "\n",
       "<svg xmlns=\"http://www.w3.org/2000/svg\" height=\"24px\"viewBox=\"0 0 24 24\"\n",
       "     width=\"24px\">\n",
       "    <g>\n",
       "        <path d=\"M19 3H5c-1.1 0-2 .9-2 2v14c0 1.1.9 2 2 2h14c1.1 0 2-.9 2-2V5c0-1.1-.9-2-2-2zM9 17H7v-7h2v7zm4 0h-2V7h2v10zm4 0h-2v-4h2v4z\"/>\n",
       "    </g>\n",
       "</svg>\n",
       "  </button>\n",
       "\n",
       "<style>\n",
       "  .colab-df-quickchart {\n",
       "      --bg-color: #E8F0FE;\n",
       "      --fill-color: #1967D2;\n",
       "      --hover-bg-color: #E2EBFA;\n",
       "      --hover-fill-color: #174EA6;\n",
       "      --disabled-fill-color: #AAA;\n",
       "      --disabled-bg-color: #DDD;\n",
       "  }\n",
       "\n",
       "  [theme=dark] .colab-df-quickchart {\n",
       "      --bg-color: #3B4455;\n",
       "      --fill-color: #D2E3FC;\n",
       "      --hover-bg-color: #434B5C;\n",
       "      --hover-fill-color: #FFFFFF;\n",
       "      --disabled-bg-color: #3B4455;\n",
       "      --disabled-fill-color: #666;\n",
       "  }\n",
       "\n",
       "  .colab-df-quickchart {\n",
       "    background-color: var(--bg-color);\n",
       "    border: none;\n",
       "    border-radius: 50%;\n",
       "    cursor: pointer;\n",
       "    display: none;\n",
       "    fill: var(--fill-color);\n",
       "    height: 32px;\n",
       "    padding: 0;\n",
       "    width: 32px;\n",
       "  }\n",
       "\n",
       "  .colab-df-quickchart:hover {\n",
       "    background-color: var(--hover-bg-color);\n",
       "    box-shadow: 0 1px 2px rgba(60, 64, 67, 0.3), 0 1px 3px 1px rgba(60, 64, 67, 0.15);\n",
       "    fill: var(--button-hover-fill-color);\n",
       "  }\n",
       "\n",
       "  .colab-df-quickchart-complete:disabled,\n",
       "  .colab-df-quickchart-complete:disabled:hover {\n",
       "    background-color: var(--disabled-bg-color);\n",
       "    fill: var(--disabled-fill-color);\n",
       "    box-shadow: none;\n",
       "  }\n",
       "\n",
       "  .colab-df-spinner {\n",
       "    border: 2px solid var(--fill-color);\n",
       "    border-color: transparent;\n",
       "    border-bottom-color: var(--fill-color);\n",
       "    animation:\n",
       "      spin 1s steps(1) infinite;\n",
       "  }\n",
       "\n",
       "  @keyframes spin {\n",
       "    0% {\n",
       "      border-color: transparent;\n",
       "      border-bottom-color: var(--fill-color);\n",
       "      border-left-color: var(--fill-color);\n",
       "    }\n",
       "    20% {\n",
       "      border-color: transparent;\n",
       "      border-left-color: var(--fill-color);\n",
       "      border-top-color: var(--fill-color);\n",
       "    }\n",
       "    30% {\n",
       "      border-color: transparent;\n",
       "      border-left-color: var(--fill-color);\n",
       "      border-top-color: var(--fill-color);\n",
       "      border-right-color: var(--fill-color);\n",
       "    }\n",
       "    40% {\n",
       "      border-color: transparent;\n",
       "      border-right-color: var(--fill-color);\n",
       "      border-top-color: var(--fill-color);\n",
       "    }\n",
       "    60% {\n",
       "      border-color: transparent;\n",
       "      border-right-color: var(--fill-color);\n",
       "    }\n",
       "    80% {\n",
       "      border-color: transparent;\n",
       "      border-right-color: var(--fill-color);\n",
       "      border-bottom-color: var(--fill-color);\n",
       "    }\n",
       "    90% {\n",
       "      border-color: transparent;\n",
       "      border-bottom-color: var(--fill-color);\n",
       "    }\n",
       "  }\n",
       "</style>\n",
       "\n",
       "  <script>\n",
       "    async function quickchart(key) {\n",
       "      const quickchartButtonEl =\n",
       "        document.querySelector('#' + key + ' button');\n",
       "      quickchartButtonEl.disabled = true;  // To prevent multiple clicks.\n",
       "      quickchartButtonEl.classList.add('colab-df-spinner');\n",
       "      try {\n",
       "        const charts = await google.colab.kernel.invokeFunction(\n",
       "            'suggestCharts', [key], {});\n",
       "      } catch (error) {\n",
       "        console.error('Error during call to suggestCharts:', error);\n",
       "      }\n",
       "      quickchartButtonEl.classList.remove('colab-df-spinner');\n",
       "      quickchartButtonEl.classList.add('colab-df-quickchart-complete');\n",
       "    }\n",
       "    (() => {\n",
       "      let quickchartButtonEl =\n",
       "        document.querySelector('#df-329c35e3-fdfd-4527-b693-fdd16375c9b2 button');\n",
       "      quickchartButtonEl.style.display =\n",
       "        google.colab.kernel.accessAllowed ? 'block' : 'none';\n",
       "    })();\n",
       "  </script>\n",
       "</div>\n",
       "\n",
       "    </div>\n",
       "  </div>\n"
      ],
      "text/plain": [
       "   Ozone  Solar.R  Wind  Temp  Month  Day\n",
       "0   41.0    190.0   7.4    67      5    1\n",
       "1   36.0    118.0   8.0    72      5    2\n",
       "2   12.0    149.0  12.6    74      5    3\n",
       "3   18.0    313.0  11.5    62      5    4\n",
       "4    NaN      NaN  14.3    56      5    5"
      ]
     },
     "metadata": {},
     "output_type": "display_data"
    }
   ],
   "source": [
    "# 1.Raw Data Loading\n",
    "ozone = pd.read_csv('/content/drive/MyDrive/KDT/data/ozone.csv')\n",
    "\n",
    "df = ozone[['Solar.R', 'Wind', 'Temp', 'Ozone']]\n",
    "display(ozone.head())"
   ]
  },
  {
   "cell_type": "code",
   "execution_count": 8,
   "metadata": {
    "executionInfo": {
     "elapsed": 37,
     "status": "ok",
     "timestamp": 1744013889479,
     "user": {
      "displayName": "오병직",
      "userId": "04063980640589832756"
     },
     "user_tz": -540
    },
    "id": "ZZGH-tjlC__x"
   },
   "outputs": [],
   "source": [
    "# 2. 데이터 전처리\n",
    "# 2-1. 결측치 처리 (지금은 삭제 처리)\n",
    "new_df = df.dropna(how='any', inplace=False)\n",
    "\n",
    "# 2-2. 이상치 처리 (지금은 삭제 처리)\n",
    "zscore_threshold = 1.8\n",
    "mask = np.abs(stats.zscore(new_df['Ozone'])) <= zscore_threshold\n",
    "df1 = new_df.loc[mask]\n",
    "\n",
    "# 3. 데이터 정규화\n",
    "# 데이터 분리(편의를 위해)\n",
    "x_data = df1.drop('Ozone', axis=1, inplace=False).values # 헷갈리지 말자 values 붙여야 2차원 numpy array 만들어짐\n",
    "t_data = df1['Ozone'].values.reshape(-1, 1)\n",
    "\n",
    "scaler_x = MinMaxScaler()\n",
    "scaler_t = MinMaxScaler()\n",
    "\n",
    "scaler_x.fit(x_data) # 최대 최소값 전달\n",
    "scaler_t.fit(t_data)\n",
    "\n",
    "x_data_norm = scaler_x.transform(x_data)\n",
    "t_data_norm = scaler_t.transform(t_data)"
   ]
  },
  {
   "cell_type": "code",
   "execution_count": 9,
   "metadata": {
    "executionInfo": {
     "elapsed": 79,
     "status": "ok",
     "timestamp": 1744013889522,
     "user": {
      "displayName": "오병직",
      "userId": "04063980640589832756"
     },
     "user_tz": -540
    },
    "id": "EeTg4VCMFjdR"
   },
   "outputs": [],
   "source": [
    "# 테스트 데이터 생성\n",
    "test_data = np.array([[310, 15, 80]])"
   ]
  },
  {
   "cell_type": "code",
   "execution_count": 10,
   "metadata": {
    "colab": {
     "base_uri": "https://localhost:8080/"
    },
    "executionInfo": {
     "elapsed": 8,
     "status": "ok",
     "timestamp": 1744013889539,
     "user": {
      "displayName": "오병직",
      "userId": "04063980640589832756"
     },
     "user_tz": -540
    },
    "id": "tmUT2WdSFyCX",
    "outputId": "fdf6e791-c9c5-4eba-b730-585857a6da72"
   },
   "outputs": [
    {
     "name": "stdout",
     "output_type": "stream",
     "text": [
      "[[38.26325246]]\n"
     ]
    }
   ],
   "source": [
    "# LinearRegression Model (sklearn - 정규화하지 않은 데이터 이용)\n",
    "sklearn_model_1 = linear_model.LinearRegression()\n",
    "sklearn_model_1.fit(x_data, t_data)\n",
    "\n",
    "# 예측\n",
    "result = sklearn_model_1.predict(test_data)\n",
    "print(result) # [[38.26325246]]"
   ]
  },
  {
   "cell_type": "code",
   "execution_count": 11,
   "metadata": {
    "colab": {
     "base_uri": "https://localhost:8080/"
    },
    "executionInfo": {
     "elapsed": 2,
     "status": "ok",
     "timestamp": 1744013889758,
     "user": {
      "displayName": "오병직",
      "userId": "04063980640589832756"
     },
     "user_tz": -540
    },
    "id": "Pofgm9j9GdUQ",
    "outputId": "98b24940-b97e-4487-c959-9dfe6e23b1c1"
   },
   "outputs": [
    {
     "name": "stdout",
     "output_type": "stream",
     "text": [
      "[[38.26325246]]\n"
     ]
    }
   ],
   "source": [
    "# LinearRegression Model (sklearn - 정규화 데이터 이용)\n",
    "sklearn_model_2 = linear_model.LinearRegression()\n",
    "sklearn_model_2.fit(x_data_norm, t_data_norm)\n",
    "\n",
    "# 예측\n",
    "test_data_norm = scaler_x.transform(test_data)\n",
    "\n",
    "result_norm = sklearn_model_2.predict(test_data_norm)\n",
    "result = scaler_t.inverse_transform(result_norm)\n",
    "print(result) # [[38.26325246]]"
   ]
  },
  {
   "cell_type": "code",
   "execution_count": 12,
   "metadata": {
    "colab": {
     "base_uri": "https://localhost:8080/"
    },
    "executionInfo": {
     "elapsed": 2,
     "status": "ok",
     "timestamp": 1744013890467,
     "user": {
      "displayName": "오병직",
      "userId": "04063980640589832756"
     },
     "user_tz": -540
    },
    "id": "dnr5pXt4Ha7n",
    "outputId": "79f38cad-d6f1-4c4b-bfc6-efbd494606c4"
   },
   "outputs": [
    {
     "name": "stdout",
     "output_type": "stream",
     "text": [
      "[[25.5]]\n"
     ]
    }
   ],
   "source": [
    "# KNN Model (sklearn - 정규화하지 않은 데이터 이용)\n",
    "knn_regressor_1 = KNeighborsRegressor(n_neighbors=2) # n_neighbor는 hyper parameter\n",
    "knn_regressor_1.fit(x_data, t_data) # 얘는 학습이 아니고 흩뿌리는 개념 (각각 거리 구함)\n",
    "\n",
    "result_knn_1 = knn_regressor_1.predict(test_data)\n",
    "print(result_knn_1) # [[25.5]]"
   ]
  },
  {
   "cell_type": "code",
   "execution_count": 13,
   "metadata": {
    "colab": {
     "base_uri": "https://localhost:8080/"
    },
    "executionInfo": {
     "elapsed": 3,
     "status": "ok",
     "timestamp": 1744013890501,
     "user": {
      "displayName": "오병직",
      "userId": "04063980640589832756"
     },
     "user_tz": -540
    },
    "id": "W4FBhn0xIqd_",
    "outputId": "09489e6a-9d51-4442-b20c-bd9f83bfbbae"
   },
   "outputs": [
    {
     "name": "stdout",
     "output_type": "stream",
     "text": [
      "[[33.]]\n"
     ]
    }
   ],
   "source": [
    "# KNN Model (sklearn - 정규화 데이터 이용)\n",
    "knn_regressor_2 = KNeighborsRegressor(n_neighbors=2)\n",
    "knn_regressor_2.fit(x_data_norm, t_data_norm)\n",
    "\n",
    "test_data_norm = scaler_x.transform(test_data)\n",
    "result_knn_2_norm = knn_regressor_2.predict(test_data_norm)\n",
    "result_knn_2 = scaler_t.inverse_transform(result_knn_2_norm)\n",
    "print(result_knn_2)"
   ]
  },
  {
   "cell_type": "code",
   "execution_count": 14,
   "metadata": {
    "colab": {
     "base_uri": "https://localhost:8080/",
     "height": 450
    },
    "executionInfo": {
     "elapsed": 301,
     "status": "ok",
     "timestamp": 1744013890801,
     "user": {
      "displayName": "오병직",
      "userId": "04063980640589832756"
     },
     "user_tz": -540
    },
    "id": "l0m0P3ScJjgn",
    "outputId": "94d3e383-ac04-4fe6-c4f7-48664ff7a4d9"
   },
   "outputs": [
    {
     "data": {
      "image/png": "[encoded data removed]",
      "text/plain": [
       "<Figure size 640x480 with 1 Axes>"
      ]
     },
     "metadata": {},
     "output_type": "display_data"
    }
   ],
   "source": [
    "# n_neighbors에 따른 result값 변화량\n",
    "\n",
    "neighbors = []\n",
    "result = []\n",
    "\n",
    "for i in range(1, 11):\n",
    "    knn_regressor = KNeighborsRegressor(n_neighbors=i)\n",
    "    neighbors.append(i)\n",
    "    knn_regressor.fit(x_data_norm, t_data_norm)\n",
    "\n",
    "    test_data_norm = scaler_x.transform(test_data)\n",
    "    result_knn_norm = knn_regressor.predict(test_data_norm)\n",
    "    result_knn = scaler_t.inverse_transform(result_knn_norm)\n",
    "    result.append(result_knn.ravel())\n",
    "\n",
    "plt.plot(neighbors, result)\n",
    "plt.xlabel('n_neighbors')\n",
    "plt.ylabel('result')\n",
    "plt.show()"
   ]
  },
  {
   "cell_type": "code",
   "execution_count": 15,
   "metadata": {
    "executionInfo": {
     "elapsed": 1,
     "status": "ok",
     "timestamp": 1744013891010,
     "user": {
      "displayName": "오병직",
      "userId": "04063980640589832756"
     },
     "user_tz": -540
    },
    "id": "KIJvs2rMMkz2"
   },
   "outputs": [],
   "source": [
    "# 우리 Ozone 데이터를 수정해서 사용할 거에요!\n",
    "# 원본데이터가 가지고 있는 결측치와 이상치를 모두 삭제하지 말고\n",
    "# 수정해서 사용할거에요!\n",
    "# 이렇게 수정된 데이터를 이용해서 sklearn의 Linear Regression과\n",
    "# Tensorflow Keras를 이용해서 학습시키고 특정 데이터로 예측을 진행\n",
    "\n",
    "# 1. 독립변수에 대한 결측치는 median으로 처리\n",
    "# 2. 독립변수에 대한 이상치는 mean으로 처리\n",
    "# 3. 종속변수에 대한 이상치는 검출한 후 mean으로 처리\n",
    "# 4. 정규화 진행\n",
    "# 5. 종속변수에 대한 결측치는 KNN을 이용해서 예측값으로 처리"
   ]
  },
  {
   "cell_type": "code",
   "execution_count": 22,
   "metadata": {
    "colab": {
     "base_uri": "https://localhost:8080/"
    },
    "executionInfo": {
     "elapsed": 2815,
     "status": "ok",
     "timestamp": 1744016189895,
     "user": {
      "displayName": "오병직",
      "userId": "04063980640589832756"
     },
     "user_tz": -540
    },
    "id": "YtqdkmZQcRfK",
    "outputId": "92fb0d98-92f2-4df2-981f-2c6ca913cb8e"
   },
   "outputs": [
    {
     "name": "stdout",
     "output_type": "stream",
     "text": [
      "Once deleted, variables cannot be recovered. Proceed (y/[n])? y\n",
      "198.6013986013986\n",
      "9.820279720279721\n",
      "78.75524475524476\n",
      "42.12931034482759\n",
      "[0.08383234 0.18562874 0.07784431 0.19161677 0.26946108 0.28143713\n",
      " 0.17664671 0.13173653 0.26047904 0.53592814 0.19161677 0.32634731\n",
      " 0.61377246 0.61377246 0.19760479 0.19760479 0.11676647 0.07784431\n",
      " 0.28742515 0.21556886 0.11676647 0.11676647 0.08083832 0.07784431\n",
      " 0.04191617 0.1497006  0.23652695 0.1497006  0.32335329 0.67365269\n",
      " 0.19760479 0.67664671 0.23353293 0.11377246 0.08682635 0.51796407\n",
      " 0.08682635]\n"
     ]
    }
   ],
   "source": [
    "%reset\n",
    "\n",
    "import numpy as np\n",
    "import pandas as pd\n",
    "from scipy import stats\n",
    "from sklearn.neighbors import KNeighborsRegressor\n",
    "from sklearn.preprocessing import MinMaxScaler\n",
    "import warnings\n",
    "\n",
    "warnings.filterwarnings(action='ignore')\n",
    "\n",
    "# Raw Data Loading\n",
    "df = pd.read_csv('/content/drive/MyDrive/KDT/data/ozone.csv')\n",
    "training_data = df\n",
    "\n",
    "x_data = training_data[['Solar.R','Wind','Temp']]\n",
    "t_data = training_data['Ozone']\n",
    "\n",
    "# 1. 먼저 독립변수에 대한 결측치를 검출한 후 median값으로 처리하겠습니다.\n",
    "#    mean으로 처리하지 않는 이유는 이상치때문입니다.\n",
    "for col in x_data.columns:\n",
    "    col_median = np.nanmedian(x_data[col])\n",
    "    x_data[col].loc[x_data[col].isnull()] = col_median\n",
    "\n",
    "# 2. 독립변수에 대한 이상치를 검출한 후 mean 값으로 처리하겠습니다.\n",
    "zscore_threshold = 1.8 # zscore outliers 임계값 (2.0이하가 optimal)\n",
    "\n",
    "for col in x_data.columns:\n",
    "    outliers = x_data[col][(np.abs(stats.zscore(x_data[col])) > zscore_threshold)]\n",
    "    col_mean = np.mean(x_data.loc[~x_data[col].isin(outliers),col])\n",
    "    print(col_mean)\n",
    "    x_data.loc[x_data[col].isin(outliers),col] = col_mean\n",
    "\n",
    "# 3. 종속변수에 대한 이상치를 검출한 후 mean 값으로 처리하겠습니다.\n",
    "#    종속변수에 대한 이상치는 없음.\n",
    "outliers = t_data[(np.abs(stats.zscore(t_data)) > zscore_threshold)]\n",
    "col_mean = np.mean(t_data[~t_data.isin(outliers)])\n",
    "print(col_mean)\n",
    "t_data[t_data.isin(outliers)] = col_mean\n",
    "\n",
    "\n",
    "# 4. 정규화를 진행합니다.\n",
    "\n",
    "scaler_x = MinMaxScaler()  # MinMaxScaler 클래스의 인스턴스 생성.\n",
    "scaler_t = MinMaxScaler()  # MinMaxScaler 클래스의 인스턴스 생성.\n",
    "\n",
    "scaler_x.fit(x_data.values)\n",
    "scaler_t.fit(t_data.values.reshape(-1,1))\n",
    "\n",
    "x_data_norm = scaler_x.transform(x_data.values)\n",
    "t_data_norm = scaler_t.transform(t_data.values.reshape(-1,1)).ravel()\n",
    "\n",
    "\n",
    "# 5. 종속변수에 대한  결측치는 KNN을 이용하여 예측값을 사용합니다.\n",
    "#    학습에 사용될 x_data_train_norm과 t_data_train_norm을 구합니다.\n",
    "x_data_train_norm = x_data_norm[~np.isnan(t_data_norm)]\n",
    "t_data_train_norm = t_data_norm[~np.isnan(t_data_norm)]\n",
    "\n",
    "knn_regressor = KNeighborsRegressor(n_neighbors=2)\n",
    "knn_regressor.fit(x_data_train_norm, t_data_train_norm)\n",
    "\n",
    "\n",
    "knn_predict = knn_regressor.predict(x_data_norm[np.isnan(t_data_norm)])\n",
    "t_data_norm[np.isnan(t_data_norm)] = knn_predict\n",
    "print(knn_predict)\n",
    "\n",
    "# 최종적으로 얻은 데이터\n",
    "# x_data_norm\n",
    "# t_data_norm\n",
    "# 이 데이터를 이용하여 sklearn과 tensorflow 2.x 구현을 진행합니다."
   ]
  },
  {
   "cell_type": "code",
   "execution_count": 19,
   "metadata": {
    "colab": {
     "base_uri": "https://localhost:8080/"
    },
    "executionInfo": {
     "elapsed": 311304,
     "status": "ok",
     "timestamp": 1744015524769,
     "user": {
      "displayName": "오병직",
      "userId": "04063980640589832756"
     },
     "user_tz": -540
    },
    "id": "KjYnpSxCuEoI",
    "outputId": "b398f4d6-29fe-4381-c941-3ba7e4e948ff"
   },
   "outputs": [
    {
     "name": "stdout",
     "output_type": "stream",
     "text": [
      "sklearn result : [[38.75927452]]\n",
      "\u001b[1m1/1\u001b[0m \u001b[32m━━━━━━━━━━━━━━━━━━━━\u001b[0m\u001b[37m\u001b[0m \u001b[1m0s\u001b[0m 62ms/step\n",
      "tensorflow result : [[38.88299]]\n"
     ]
    }
   ],
   "source": [
    "from sklearn.linear_model import LinearRegression\n",
    "from tensorflow.keras.models import Sequential\n",
    "from tensorflow.keras.layers import Flatten, Dense\n",
    "from tensorflow.keras.optimizers import SGD\n",
    "\n",
    "test_data = [[310,15,80]]\n",
    "\n",
    "\n",
    "# sklearn 구현\n",
    "model = LinearRegression()\n",
    "model.fit(x_data_norm,t_data_norm)\n",
    "result = model.predict(scaler_x.transform(test_data))\n",
    "\n",
    "print('sklearn result : {}'.format(scaler_t.inverse_transform(result.reshape(-1,1))))\n",
    "\n",
    "# sklearn result : [[38.75927452]]\n",
    "\n",
    "\n",
    "# tensorflow 2.x 구현\n",
    "keras_model = Sequential()\n",
    "\n",
    "keras_model.add(Flatten(input_shape=(3,)))\n",
    "keras_model.add(Dense(1, activation='linear'))\n",
    "\n",
    "keras_model.compile(optimizer=SGD(learning_rate=1e-2), loss='mse')\n",
    "\n",
    "keras_model.fit(x_data_norm,\n",
    "                t_data_norm,\n",
    "                epochs=5000,\n",
    "                verbose=0)\n",
    "\n",
    "keras_result = keras_model.predict(scaler_x.transform(test_data))\n",
    "\n",
    "print('tensorflow result : {}'.format(scaler_t.inverse_transform(keras_result.reshape(-1,1))))\n",
    "\n",
    "# tensorflow result : [[38.64248]]\n"
   ]
  },
  {
   "cell_type": "code",
   "execution_count": null,
   "metadata": {
    "id": "H2pSuaWQcNkK"
   },
   "outputs": [],
   "source": [
    "# 이진 분류에서의 Linear Regression 한계 -> Logistic Regression 사용!\n",
    "import numpy as np\n",
    "import matplotlib.pyplot as plt\n",
    "\n",
    "from tensorflow.keras.models import Sequential\n",
    "from tensorflow.keras.layers import Flatten, Dense\n",
    "from tensorflow.keras.optimizers import SGD\n",
    "\n",
    "# 1. Training Data Set\n",
    "x_data = np.array([1, 3, 5, 7, 10, 13]).reshape(-1, 1) # 공부시간\n",
    "t_data = np.array([0, 0, 0, 0, 1, 1]).reshape(-1, 1) # 합격여부\n",
    "\n",
    "# 2. Model 구현\n",
    "model = Sequential()\n",
    "model.add(Flatten(input_shape=(1,)))\n",
    "model.add(Dense(units=1, activation='linear'))\n",
    "model.compile(optimizer=SGD(learning_rate=1e-4), loss='mse')\n",
    "\n",
    "# 3. 학습 진행\n",
    "model.fit(x_data, t_data, epochs=1000, verbose=1)"
   ]
  },
  {
   "cell_type": "code",
   "execution_count": null,
   "metadata": {
    "colab": {
     "base_uri": "https://localhost:8080/"
    },
    "executionInfo": {
     "elapsed": 684,
     "status": "ok",
     "timestamp": 1743479688809,
     "user": {
      "displayName": "오병직",
      "userId": "04063980640589832756"
     },
     "user_tz": -540
    },
    "id": "E0RFwMcneFee",
    "outputId": "0f0551f1-6d55-4102-8c01-0b72a07255e2"
   },
   "outputs": [
    {
     "name": "stdout",
     "output_type": "stream",
     "text": [
      "\u001b[1m1/1\u001b[0m \u001b[32m━━━━━━━━━━━━━━━━━━━━\u001b[0m\u001b[37m\u001b[0m \u001b[1m0s\u001b[0m 118ms/step\n",
      "[[0.5848966]]\n",
      "\u001b[1m1/1\u001b[0m \u001b[32m━━━━━━━━━━━━━━━━━━━━\u001b[0m\u001b[37m\u001b[0m \u001b[1m0s\u001b[0m 74ms/step\n",
      "[[0.705537]]\n",
      "\u001b[1m1/1\u001b[0m \u001b[32m━━━━━━━━━━━━━━━━━━━━\u001b[0m\u001b[37m\u001b[0m \u001b[1m0s\u001b[0m 80ms/step\n",
      "[[0.40393612]]\n"
     ]
    }
   ],
   "source": [
    "# 4. 예측\n",
    "result = model.predict(np.array([[9]]))\n",
    "print(result) # [[0.5848966]]\n",
    "\n",
    "result = model.predict(np.array([[11]]))\n",
    "print(result) # [[0.705537]]\n",
    "\n",
    "result = model.predict(np.array([[6]]))\n",
    "print(result) # [[0.40393612]]"
   ]
  },
  {
   "cell_type": "code",
   "execution_count": null,
   "metadata": {
    "colab": {
     "base_uri": "https://localhost:8080/"
    },
    "collapsed": true,
    "executionInfo": {
     "elapsed": 87152,
     "status": "ok",
     "timestamp": 1743480018976,
     "user": {
      "displayName": "오병직",
      "userId": "04063980640589832756"
     },
     "user_tz": -540
    },
    "id": "nAcJqRR7f3ij",
    "outputId": "5fca27a4-1741-4b80-fb09-e1c06567e76b"
   },
   "outputs": [],
   "source": [
    "import numpy as np\n",
    "import matplotlib.pyplot as plt\n",
    "\n",
    "from tensorflow.keras.models import Sequential\n",
    "from tensorflow.keras.layers import Flatten, Dense\n",
    "from tensorflow.keras.optimizers import SGD\n",
    "\n",
    "# 1. Training Data Set\n",
    "# 여기서 30은 수치적으론 이상치이지만 가능한 숫자이기 때문에 이상치 X\n",
    "x_data = np.array([1, 3, 5, 7, 10, 13, 30]).reshape(-1, 1)\n",
    "t_data = np.array([0, 0, 0, 0, 1, 1, 1]).reshape(-1, 1)\n",
    "\n",
    "# 2. Model 구현\n",
    "model = Sequential()\n",
    "model.add(Flatten(input_shape=(1,)))\n",
    "model.add(Dense(units=1, activation='linear'))\n",
    "model.compile(optimizer=SGD(learning_rate=1e-4), loss='mse')\n",
    "\n",
    "# 3. 학습 진행\n",
    "model.fit(x_data, t_data, epochs=1000, verbose=1)"
   ]
  },
  {
   "cell_type": "code",
   "execution_count": null,
   "metadata": {
    "colab": {
     "base_uri": "https://localhost:8080/"
    },
    "executionInfo": {
     "elapsed": 395,
     "status": "ok",
     "timestamp": 1743480024514,
     "user": {
      "displayName": "오병직",
      "userId": "04063980640589832756"
     },
     "user_tz": -540
    },
    "id": "WZlg7Yb5gMgU",
    "outputId": "9ba320c9-04a3-4688-e70a-646d3966b752"
   },
   "outputs": [
    {
     "name": "stdout",
     "output_type": "stream",
     "text": [
      "\u001b[1m1/1\u001b[0m \u001b[32m━━━━━━━━━━━━━━━━━━━━\u001b[0m\u001b[37m\u001b[0m \u001b[1m0s\u001b[0m 60ms/step\n",
      "[[0.4058821]]\n",
      "\u001b[1m1/1\u001b[0m \u001b[32m━━━━━━━━━━━━━━━━━━━━\u001b[0m\u001b[37m\u001b[0m \u001b[1m0s\u001b[0m 40ms/step\n",
      "[[0.48496366]]\n",
      "\u001b[1m1/1\u001b[0m \u001b[32m━━━━━━━━━━━━━━━━━━━━\u001b[0m\u001b[37m\u001b[0m \u001b[1m0s\u001b[0m 39ms/step\n",
      "[[0.2872598]]\n"
     ]
    }
   ],
   "source": [
    "# 4. 예측\n",
    "result = model.predict(np.array([[9]]))\n",
    "print(result) # [[0.4058821]]\n",
    "\n",
    "result = model.predict(np.array([[11]]))\n",
    "print(result) # [[0.48496366]]\n",
    "\n",
    "result = model.predict(np.array([[6]]))\n",
    "print(result) # [[0.2872598]]"
   ]
  },
  {
   "cell_type": "code",
   "execution_count": null,
   "metadata": {
    "id": "qyfy7ni25laL"
   },
   "outputs": [],
   "source": [
    "# Logistic 글 쓸때 Linear에서 loss함수 Logistic에서 loss함수 다른이유 (convex 함수 특징) 찾아보기!"
   ]
  },
  {
   "cell_type": "code",
   "execution_count": null,
   "metadata": {
    "colab": {
     "base_uri": "https://localhost:8080/"
    },
    "collapsed": true,
    "executionInfo": {
     "elapsed": 2998,
     "status": "ok",
     "timestamp": 1743489317654,
     "user": {
      "displayName": "오병직",
      "userId": "04063980640589832756"
     },
     "user_tz": -540
    },
    "id": "9pL1Hd6MDA6o",
    "outputId": "0f885912-c213-41ba-e9d2-f3e2eeea5b2c"
   },
   "outputs": [],
   "source": [
    "# Logistic Regression\n",
    "# Lojistic을 위한 적합한 Data Set이 mglearn 안에 있어서 사용해요!\n",
    "# mglearn library를 설치하고 사용해 보아요!\n",
    "# colab을 사용하면 CPU, Memory, Disk를 제공받아요!\n",
    "# 제공받은 Disk에 unbuntu Linux가 설치되어서 제공되요!\n",
    "# 특정 library를 설치하려면 pip를 이용해야 해요!\n",
    "!pip install mglearn"
   ]
  },
  {
   "cell_type": "code",
   "execution_count": null,
   "metadata": {
    "colab": {
     "base_uri": "https://localhost:8080/",
     "height": 430
    },
    "executionInfo": {
     "elapsed": 191,
     "status": "ok",
     "timestamp": 1743490896418,
     "user": {
      "displayName": "오병직",
      "userId": "04063980640589832756"
     },
     "user_tz": -540
    },
    "id": "EYMhS8VqD9Fg",
    "outputId": "f4181f15-ebec-46b3-e70e-9be627be4607"
   },
   "outputs": [
    {
     "data": {
      "image/png": "[encoded data removed]",
      "text/plain": [
       "<Figure size 640x480 with 1 Axes>"
      ]
     },
     "metadata": {},
     "output_type": "display_data"
    }
   ],
   "source": [
    "import numpy as np\n",
    "from sklearn import linear_model\n",
    "import mglearn\n",
    "import matplotlib.pyplot as plt\n",
    "\n",
    "# 1. Training Data Set Loading\n",
    "x_data, t_data = mglearn.datasets.make_forge()\n",
    "# print(x_data) # 2차원 0번째 컬럼을 x축 좌표로, 1번째 컬럼을 y축 좌표로.\n",
    "# print(t_data) # [1 0 1 0 0 1 1 0 1 1 1 1 0 0 1 1 1 0 0 1 0 0 0 0 1 0]\n",
    "\n",
    "# plt.scatter(x_data[:,0], x_data[:,1])\n",
    "# plt.show()\n",
    "\n",
    "mglearn.discrete_scatter(x_data[:,0], x_data[:,1], t_data)\n",
    "\n",
    "# Linear Regression 모델을 만들고 학습까지 시켜보아요!\n",
    "model = linear_model.LinearRegression()\n",
    "model.fit(x_data[:,0].reshape(-1, 1), x_data[:,1].reshape(-1, 1))\n",
    "\n",
    "# 모델이 생성되고 당연히 1차 직선으로 생성되요!\n",
    "# 당연히 w와 b가 생성되고,\n",
    "# 이 값을 ㅣ용해서 직선을 그려보아요!\n",
    "plt.plot(x_data[:,0], x_data[:,0] * model.coef_.ravel() + model.intercept_.ravel(), color='r')\n",
    "plt.show() # 이진 데이터에 대해 LinearRegression을 그리면 데이터를 나누는 기준선이 됨!\n",
    "# 선에서 멀어질수록 확률이 높은 것 !\n",
    "# Logistic은 이에 따라 어느영역에 들어가는지 판단 -> Linear를 기반으로 !"
   ]
  },
  {
   "cell_type": "code",
   "execution_count": null,
   "metadata": {
    "colab": {
     "base_uri": "https://localhost:8080/"
    },
    "executionInfo": {
     "elapsed": 4141,
     "status": "ok",
     "timestamp": 1743491804856,
     "user": {
      "displayName": "오병직",
      "userId": "04063980640589832756"
     },
     "user_tz": -540
    },
    "id": "8zwdwkq7Gy7H",
    "outputId": "4cfee7f1-0f9b-406f-9f5f-0193a5eaaffc"
   },
   "outputs": [
    {
     "name": "stdout",
     "output_type": "stream",
     "text": [
      "Once deleted, variables cannot be recovered. Proceed (y/[n])? y\n"
     ]
    }
   ],
   "source": [
    "# 이번에는 admission Data Set을 이용해서\n",
    "# Logistic Regression을 구현해 보아요!\n",
    "\n",
    "# 필요한 모듈 import\n",
    "%reset\n",
    "import numpy as np\n",
    "import pandas as pd\n",
    "import matplotlib.pyplot as plt\n",
    "\n",
    "# 데이터 전처리\n",
    "# 결측치가 있으면 삭제\n",
    "# 이상치가 있으면 처리 (종속변수는 0 or 1이가 때문에 지대점!) -> 근데 처리안함 ㅋㅋ (실제데이터로 가정)\n",
    "# 정규화 (MinMaxScaler) 이상치 있으면 정규화에도 문제 생기긴함...\n",
    "from sklearn.preprocessing import MinMaxScaler\n",
    "\n",
    "# 모델 구현(2가지 방식으로)\n",
    "# 1. sklearn으로 구현\n",
    "# 2. Tensorflow Keras로 구현\n",
    "from sklearn import linear_model\n",
    "from tensorflow.keras.models import Sequential\n",
    "from tensorflow.keras.layers import Flatten, Dense\n",
    "from tensorflow.keras.optimizers import SGD"
   ]
  },
  {
   "cell_type": "code",
   "execution_count": null,
   "metadata": {
    "colab": {
     "base_uri": "https://localhost:8080/",
     "height": 206
    },
    "executionInfo": {
     "elapsed": 1958,
     "status": "ok",
     "timestamp": 1743492814993,
     "user": {
      "displayName": "오병직",
      "userId": "04063980640589832756"
     },
     "user_tz": -540
    },
    "id": "Fe9IgfD8Nb8G",
    "outputId": "e5230d4b-d434-45c9-d61b-c05b160daf26"
   },
   "outputs": [
    {
     "data": {
      "application/vnd.google.colaboratory.intrinsic+json": {
       "summary": "{\n  \"name\": \"display(df\",\n  \"rows\": 5,\n  \"fields\": [\n    {\n      \"column\": \"admit\",\n      \"properties\": {\n        \"dtype\": \"number\",\n        \"std\": 0,\n        \"min\": 0,\n        \"max\": 1,\n        \"num_unique_values\": 2,\n        \"samples\": [\n          1,\n          0\n        ],\n        \"semantic_type\": \"\",\n        \"description\": \"\"\n      }\n    },\n    {\n      \"column\": \"gre\",\n      \"properties\": {\n        \"dtype\": \"number\",\n        \"std\": 158,\n        \"min\": 380,\n        \"max\": 800,\n        \"num_unique_values\": 5,\n        \"samples\": [\n          660,\n          520\n        ],\n        \"semantic_type\": \"\",\n        \"description\": \"\"\n      }\n    },\n    {\n      \"column\": \"gpa\",\n      \"properties\": {\n        \"dtype\": \"number\",\n        \"std\": 0.42130748865881784,\n        \"min\": 2.93,\n        \"max\": 4.0,\n        \"num_unique_values\": 5,\n        \"samples\": [\n          3.67,\n          2.93\n        ],\n        \"semantic_type\": \"\",\n        \"description\": \"\"\n      }\n    },\n    {\n      \"column\": \"rank\",\n      \"properties\": {\n        \"dtype\": \"number\",\n        \"std\": 1,\n        \"min\": 1,\n        \"max\": 4,\n        \"num_unique_values\": 3,\n        \"samples\": [\n          3,\n          1\n        ],\n        \"semantic_type\": \"\",\n        \"description\": \"\"\n      }\n    }\n  ]\n}",
       "type": "dataframe"
      },
      "text/html": [
       "\n",
       "  <div id=\"df-c3c64463-568f-46ae-9134-9be82b845b93\" class=\"colab-df-container\">\n",
       "    <div>\n",
       "<style scoped>\n",
       "    .dataframe tbody tr th:only-of-type {\n",
       "        vertical-align: middle;\n",
       "    }\n",
       "\n",
       "    .dataframe tbody tr th {\n",
       "        vertical-align: top;\n",
       "    }\n",
       "\n",
       "    .dataframe thead th {\n",
       "        text-align: right;\n",
       "    }\n",
       "</style>\n",
       "<table border=\"1\" class=\"dataframe\">\n",
       "  <thead>\n",
       "    <tr style=\"text-align: right;\">\n",
       "      <th></th>\n",
       "      <th>admit</th>\n",
       "      <th>gre</th>\n",
       "      <th>gpa</th>\n",
       "      <th>rank</th>\n",
       "    </tr>\n",
       "  </thead>\n",
       "  <tbody>\n",
       "    <tr>\n",
       "      <th>0</th>\n",
       "      <td>0</td>\n",
       "      <td>380</td>\n",
       "      <td>3.61</td>\n",
       "      <td>3</td>\n",
       "    </tr>\n",
       "    <tr>\n",
       "      <th>1</th>\n",
       "      <td>1</td>\n",
       "      <td>660</td>\n",
       "      <td>3.67</td>\n",
       "      <td>3</td>\n",
       "    </tr>\n",
       "    <tr>\n",
       "      <th>2</th>\n",
       "      <td>1</td>\n",
       "      <td>800</td>\n",
       "      <td>4.00</td>\n",
       "      <td>1</td>\n",
       "    </tr>\n",
       "    <tr>\n",
       "      <th>3</th>\n",
       "      <td>1</td>\n",
       "      <td>640</td>\n",
       "      <td>3.19</td>\n",
       "      <td>4</td>\n",
       "    </tr>\n",
       "    <tr>\n",
       "      <th>4</th>\n",
       "      <td>0</td>\n",
       "      <td>520</td>\n",
       "      <td>2.93</td>\n",
       "      <td>4</td>\n",
       "    </tr>\n",
       "  </tbody>\n",
       "</table>\n",
       "</div>\n",
       "    <div class=\"colab-df-buttons\">\n",
       "\n",
       "  <div class=\"colab-df-container\">\n",
       "    <button class=\"colab-df-convert\" onclick=\"convertToInteractive('df-c3c64463-568f-46ae-9134-9be82b845b93')\"\n",
       "            title=\"Convert this dataframe to an interactive table.\"\n",
       "            style=\"display:none;\">\n",
       "\n",
       "  <svg xmlns=\"http://www.w3.org/2000/svg\" height=\"24px\" viewBox=\"0 -960 960 960\">\n",
       "    <path d=\"M120-120v-720h720v720H120Zm60-500h600v-160H180v160Zm220 220h160v-160H400v160Zm0 220h160v-160H400v160ZM180-400h160v-160H180v160Zm440 0h160v-160H620v160ZM180-180h160v-160H180v160Zm440 0h160v-160H620v160Z\"/>\n",
       "  </svg>\n",
       "    </button>\n",
       "\n",
       "  <style>\n",
       "    .colab-df-container {\n",
       "      display:flex;\n",
       "      gap: 12px;\n",
       "    }\n",
       "\n",
       "    .colab-df-convert {\n",
       "      background-color: #E8F0FE;\n",
       "      border: none;\n",
       "      border-radius: 50%;\n",
       "      cursor: pointer;\n",
       "      display: none;\n",
       "      fill: #1967D2;\n",
       "      height: 32px;\n",
       "      padding: 0 0 0 0;\n",
       "      width: 32px;\n",
       "    }\n",
       "\n",
       "    .colab-df-convert:hover {\n",
       "      background-color: #E2EBFA;\n",
       "      box-shadow: 0px 1px 2px rgba(60, 64, 67, 0.3), 0px 1px 3px 1px rgba(60, 64, 67, 0.15);\n",
       "      fill: #174EA6;\n",
       "    }\n",
       "\n",
       "    .colab-df-buttons div {\n",
       "      margin-bottom: 4px;\n",
       "    }\n",
       "\n",
       "    [theme=dark] .colab-df-convert {\n",
       "      background-color: #3B4455;\n",
       "      fill: #D2E3FC;\n",
       "    }\n",
       "\n",
       "    [theme=dark] .colab-df-convert:hover {\n",
       "      background-color: #434B5C;\n",
       "      box-shadow: 0px 1px 3px 1px rgba(0, 0, 0, 0.15);\n",
       "      filter: drop-shadow(0px 1px 2px rgba(0, 0, 0, 0.3));\n",
       "      fill: #FFFFFF;\n",
       "    }\n",
       "  </style>\n",
       "\n",
       "    <script>\n",
       "      const buttonEl =\n",
       "        document.querySelector('#df-c3c64463-568f-46ae-9134-9be82b845b93 button.colab-df-convert');\n",
       "      buttonEl.style.display =\n",
       "        google.colab.kernel.accessAllowed ? 'block' : 'none';\n",
       "\n",
       "      async function convertToInteractive(key) {\n",
       "        const element = document.querySelector('#df-c3c64463-568f-46ae-9134-9be82b845b93');\n",
       "        const dataTable =\n",
       "          await google.colab.kernel.invokeFunction('convertToInteractive',\n",
       "                                                    [key], {});\n",
       "        if (!dataTable) return;\n",
       "\n",
       "        const docLinkHtml = 'Like what you see? Visit the ' +\n",
       "          '<a target=\"_blank\" href=https://colab.research.google.com/notebooks/data_table.ipynb>data table notebook</a>'\n",
       "          + ' to learn more about interactive tables.';\n",
       "        element.innerHTML = '';\n",
       "        dataTable['output_type'] = 'display_data';\n",
       "        await google.colab.output.renderOutput(dataTable, element);\n",
       "        const docLink = document.createElement('div');\n",
       "        docLink.innerHTML = docLinkHtml;\n",
       "        element.appendChild(docLink);\n",
       "      }\n",
       "    </script>\n",
       "  </div>\n",
       "\n",
       "\n",
       "<div id=\"df-d731ea36-98ac-4562-a461-4dd7c73df032\">\n",
       "  <button class=\"colab-df-quickchart\" onclick=\"quickchart('df-d731ea36-98ac-4562-a461-4dd7c73df032')\"\n",
       "            title=\"Suggest charts\"\n",
       "            style=\"display:none;\">\n",
       "\n",
       "<svg xmlns=\"http://www.w3.org/2000/svg\" height=\"24px\"viewBox=\"0 0 24 24\"\n",
       "     width=\"24px\">\n",
       "    <g>\n",
       "        <path d=\"M19 3H5c-1.1 0-2 .9-2 2v14c0 1.1.9 2 2 2h14c1.1 0 2-.9 2-2V5c0-1.1-.9-2-2-2zM9 17H7v-7h2v7zm4 0h-2V7h2v10zm4 0h-2v-4h2v4z\"/>\n",
       "    </g>\n",
       "</svg>\n",
       "  </button>\n",
       "\n",
       "<style>\n",
       "  .colab-df-quickchart {\n",
       "      --bg-color: #E8F0FE;\n",
       "      --fill-color: #1967D2;\n",
       "      --hover-bg-color: #E2EBFA;\n",
       "      --hover-fill-color: #174EA6;\n",
       "      --disabled-fill-color: #AAA;\n",
       "      --disabled-bg-color: #DDD;\n",
       "  }\n",
       "\n",
       "  [theme=dark] .colab-df-quickchart {\n",
       "      --bg-color: #3B4455;\n",
       "      --fill-color: #D2E3FC;\n",
       "      --hover-bg-color: #434B5C;\n",
       "      --hover-fill-color: #FFFFFF;\n",
       "      --disabled-bg-color: #3B4455;\n",
       "      --disabled-fill-color: #666;\n",
       "  }\n",
       "\n",
       "  .colab-df-quickchart {\n",
       "    background-color: var(--bg-color);\n",
       "    border: none;\n",
       "    border-radius: 50%;\n",
       "    cursor: pointer;\n",
       "    display: none;\n",
       "    fill: var(--fill-color);\n",
       "    height: 32px;\n",
       "    padding: 0;\n",
       "    width: 32px;\n",
       "  }\n",
       "\n",
       "  .colab-df-quickchart:hover {\n",
       "    background-color: var(--hover-bg-color);\n",
       "    box-shadow: 0 1px 2px rgba(60, 64, 67, 0.3), 0 1px 3px 1px rgba(60, 64, 67, 0.15);\n",
       "    fill: var(--button-hover-fill-color);\n",
       "  }\n",
       "\n",
       "  .colab-df-quickchart-complete:disabled,\n",
       "  .colab-df-quickchart-complete:disabled:hover {\n",
       "    background-color: var(--disabled-bg-color);\n",
       "    fill: var(--disabled-fill-color);\n",
       "    box-shadow: none;\n",
       "  }\n",
       "\n",
       "  .colab-df-spinner {\n",
       "    border: 2px solid var(--fill-color);\n",
       "    border-color: transparent;\n",
       "    border-bottom-color: var(--fill-color);\n",
       "    animation:\n",
       "      spin 1s steps(1) infinite;\n",
       "  }\n",
       "\n",
       "  @keyframes spin {\n",
       "    0% {\n",
       "      border-color: transparent;\n",
       "      border-bottom-color: var(--fill-color);\n",
       "      border-left-color: var(--fill-color);\n",
       "    }\n",
       "    20% {\n",
       "      border-color: transparent;\n",
       "      border-left-color: var(--fill-color);\n",
       "      border-top-color: var(--fill-color);\n",
       "    }\n",
       "    30% {\n",
       "      border-color: transparent;\n",
       "      border-left-color: var(--fill-color);\n",
       "      border-top-color: var(--fill-color);\n",
       "      border-right-color: var(--fill-color);\n",
       "    }\n",
       "    40% {\n",
       "      border-color: transparent;\n",
       "      border-right-color: var(--fill-color);\n",
       "      border-top-color: var(--fill-color);\n",
       "    }\n",
       "    60% {\n",
       "      border-color: transparent;\n",
       "      border-right-color: var(--fill-color);\n",
       "    }\n",
       "    80% {\n",
       "      border-color: transparent;\n",
       "      border-right-color: var(--fill-color);\n",
       "      border-bottom-color: var(--fill-color);\n",
       "    }\n",
       "    90% {\n",
       "      border-color: transparent;\n",
       "      border-bottom-color: var(--fill-color);\n",
       "    }\n",
       "  }\n",
       "</style>\n",
       "\n",
       "  <script>\n",
       "    async function quickchart(key) {\n",
       "      const quickchartButtonEl =\n",
       "        document.querySelector('#' + key + ' button');\n",
       "      quickchartButtonEl.disabled = true;  // To prevent multiple clicks.\n",
       "      quickchartButtonEl.classList.add('colab-df-spinner');\n",
       "      try {\n",
       "        const charts = await google.colab.kernel.invokeFunction(\n",
       "            'suggestCharts', [key], {});\n",
       "      } catch (error) {\n",
       "        console.error('Error during call to suggestCharts:', error);\n",
       "      }\n",
       "      quickchartButtonEl.classList.remove('colab-df-spinner');\n",
       "      quickchartButtonEl.classList.add('colab-df-quickchart-complete');\n",
       "    }\n",
       "    (() => {\n",
       "      let quickchartButtonEl =\n",
       "        document.querySelector('#df-d731ea36-98ac-4562-a461-4dd7c73df032 button');\n",
       "      quickchartButtonEl.style.display =\n",
       "        google.colab.kernel.accessAllowed ? 'block' : 'none';\n",
       "    })();\n",
       "  </script>\n",
       "</div>\n",
       "\n",
       "    </div>\n",
       "  </div>\n"
      ],
      "text/plain": [
       "   admit  gre   gpa  rank\n",
       "0      0  380  3.61     3\n",
       "1      1  660  3.67     3\n",
       "2      1  800  4.00     1\n",
       "3      1  640  3.19     4\n",
       "4      0  520  2.93     4"
      ]
     },
     "metadata": {},
     "output_type": "display_data"
    }
   ],
   "source": [
    "# 1. Raw Data Loading\n",
    "df = pd.read_csv('/content/drive/MyDrive/KDT/data/admission.csv')\n",
    "display(df.head())"
   ]
  },
  {
   "cell_type": "code",
   "execution_count": null,
   "metadata": {
    "colab": {
     "base_uri": "https://localhost:8080/",
     "height": 579
    },
    "executionInfo": {
     "elapsed": 606,
     "status": "ok",
     "timestamp": 1743493595056,
     "user": {
      "displayName": "오병직",
      "userId": "04063980640589832756"
     },
     "user_tz": -540
    },
    "id": "191PP1c6RR-V",
    "outputId": "7ee3dba9-c555-4446-96f2-ecc42645b192"
   },
   "outputs": [
    {
     "name": "stdout",
     "output_type": "stream",
     "text": [
      "admit    0\n",
      "gre      0\n",
      "gpa      0\n",
      "rank     0\n",
      "dtype: int64\n"
     ]
    },
    {
     "data": {
      "image/png": "[encoded data removed]",
      "text/plain": [
       "<Figure size 640x480 with 4 Axes>"
      ]
     },
     "metadata": {},
     "output_type": "display_data"
    }
   ],
   "source": [
    "# 2. 데이터 전처리\n",
    "# 2-1. 결측치 처리\n",
    "print(df.isnull().sum()) # 확인결과 결측치는 없어요!\n",
    "\n",
    "# 2-2. 이상치 처리 (확인만 할거에요!)\n",
    "fig = plt.figure()\n",
    "ax_admit = fig.add_subplot(1, 4, 1)\n",
    "ax_gre = fig.add_subplot(1, 4, 2)\n",
    "ax_gpa = fig.add_subplot(1, 4, 3)\n",
    "ax_rank = fig.add_subplot(1, 4, 4)\n",
    "\n",
    "ax_admit.boxplot(df['admit'].values)\n",
    "ax_gre.boxplot(df['gre'].values)\n",
    "ax_gpa.boxplot(df['gpa'].values)\n",
    "ax_rank.boxplot(df['rank'].values)\n",
    "\n",
    "plt.tight_layout()\n",
    "plt.show()\n",
    "\n",
    "# 2-3. 정규화 처리\n",
    "x_data = df.drop('admit', axis=1, inplace=False).values\n",
    "t_data = df['admit'].values.reshape(-1, 1) # 이미 0과 1의 값만 가지고 있기 때문에 정규화 필요 x\n",
    "\n",
    "scaler = MinMaxScaler()\n",
    "scaler.fit(x_data)\n",
    "x_data_norm = scaler.transform(x_data)"
   ]
  },
  {
   "cell_type": "code",
   "execution_count": null,
   "metadata": {
    "colab": {
     "base_uri": "https://localhost:8080/"
    },
    "executionInfo": {
     "elapsed": 71,
     "status": "ok",
     "timestamp": 1743494194803,
     "user": {
      "displayName": "오병직",
      "userId": "04063980640589832756"
     },
     "user_tz": -540
    },
    "id": "WLWZ2KS0UQWU",
    "outputId": "7d6f638e-001b-48d0-c245-75d62a116e74"
   },
   "outputs": [
    {
     "name": "stdout",
     "output_type": "stream",
     "text": [
      "[1]\n",
      "[[0.45453933 0.54546067]]\n"
     ]
    }
   ],
   "source": [
    "# Model 구현\n",
    "# sklearn으로 구현\n",
    "sklearn_model = linear_model.LogisticRegression()\n",
    "sklearn_model.fit(x_data_norm, t_data.ravel()) # Logistic은 t_data 입력 시 1차원으로 입력\n",
    "\n",
    "# 예측 => gre 600, gpa 3.8, rank 1 합격여부\n",
    "sklearn_result = sklearn_model.predict(scaler.transform(np.array([[600, 3.8, 1]])))\n",
    "sklearn_result_proba = sklearn_model.predict_proba(scaler.transform(np.array([[600, 3.8, 1]])))\n",
    "print(sklearn_result) # [1]\n",
    "print(sklearn_result_proba) # [[0.45453933 0.54546067]] 54.5% 확률로 합격"
   ]
  },
  {
   "cell_type": "code",
   "execution_count": null,
   "metadata": {
    "colab": {
     "base_uri": "https://localhost:8080/"
    },
    "collapsed": true,
    "executionInfo": {
     "elapsed": 61883,
     "status": "ok",
     "timestamp": 1743494818720,
     "user": {
      "displayName": "오병직",
      "userId": "04063980640589832756"
     },
     "user_tz": -540
    },
    "id": "ZPjP1LKPV1aM",
    "outputId": "886c1439-e200-4d40-d4b9-9274e79f2568"
   },
   "outputs": [],
   "source": [
    "# Tensorflow Keras model 구현\n",
    "keras_model = Sequential()\n",
    "keras_model.add(Flatten(input_shape=(3,)))\n",
    "keras_model.add(Dense(units=1, activation='sigmoid'))\n",
    "keras_model.compile(optimizer=SGD(learning_rate=1e-4), loss='binary_crossentropy')\n",
    "keras_model.fit(x_data_norm, t_data, epochs=500, verbose=1)"
   ]
  },
  {
   "cell_type": "code",
   "execution_count": null,
   "metadata": {
    "colab": {
     "base_uri": "https://localhost:8080/"
    },
    "executionInfo": {
     "elapsed": 234,
     "status": "ok",
     "timestamp": 1743494825426,
     "user": {
      "displayName": "오병직",
      "userId": "04063980640589832756"
     },
     "user_tz": -540
    },
    "id": "NTFVpovYYUoP",
    "outputId": "f4a49836-e5dc-4926-ff8b-ddb2ef9352d2"
   },
   "outputs": [
    {
     "name": "stdout",
     "output_type": "stream",
     "text": [
      "\u001b[1m1/1\u001b[0m \u001b[32m━━━━━━━━━━━━━━━━━━━━\u001b[0m\u001b[37m\u001b[0m \u001b[1m0s\u001b[0m 82ms/step\n",
      "[[0.63557833]]\n"
     ]
    }
   ],
   "source": [
    "keras_result = keras_model.predict(scaler.transform(np.array([[600, 3.8, 1]])))\n",
    "print(keras_result) # [[0.63557833]] 63.6% 확률로 합격"
   ]
  }
 ],
 "metadata": {
  "colab": {
   "authorship_tag": "ABX9TyN3LFFUU+/Esasvg0Q9k7jc",
   "mount_file_id": "16ElKhBRuZKG1I3TsuafJDcuQebPU8HL8",
   "provenance": []
  },
  "kernelspec": {
   "display_name": "Python 3",
   "name": "python3"
  },
  "language_info": {
   "name": "python"
  }
 },
 "nbformat": 4,
 "nbformat_minor": 0
}
